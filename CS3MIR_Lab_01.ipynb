{
  "nbformat": 4,
  "nbformat_minor": 0,
  "metadata": {
    "colab": {
      "provenance": []
    },
    "kernelspec": {
      "name": "python3",
      "display_name": "Python 3"
    },
    "language_info": {
      "name": "python"
    }
  },
  "cells": [
    {
      "cell_type": "markdown",
      "metadata": {
        "id": "view-in-github"
      },
      "source": [
        "<a href=\"https://colab.research.google.com/github/gvogiatzis/CS3320/blob/main/CS3320_Lab_01.ipynb\" target=\"_parent\"><img src=\"https://colab.research.google.com/assets/colab-badge.svg\" alt=\"Open In Colab\"/></a>"
      ]
    },
    {
      "cell_type": "markdown",
      "source": [
        "# CS3MIR Lab 1. Boolean Retrieval"
      ],
      "metadata": {
        "id": "DESpApL3wrI8"
      }
    },
    {
      "cell_type": "markdown",
      "source": [
        "## Introduction\n",
        "In this lab we will explore some of the fundamental information retrieval concepts we saw in the lectures including indexing, ranked and boolean retrieval. You are given a small dataset of 737 news stories scraped from the **BBC Sports website** between 2004 and 2005 (full dataset [here](http://mlg.ucd.ie/datasets/bbc.html)). Your task is to write a basic search engine in Python, using the Boolean Retrieval model we talked about in lectures. \n",
        "Your engine should consist of an indexer which processes all documents and creates an index as well a query engine that takes a query string and returns a list of documents that contains all the terms."
      ],
      "metadata": {
        "id": "K7Mx8ns3xMFJ"
      }
    },
    {
      "cell_type": "code",
      "source": [
        "!wget https://github.com/TharinduDR/CS3MIR/raw/main/data/bbc_sport_docs.zip"
      ],
      "metadata": {
        "id": "ChgJzK-b6NJl",
        "colab": {
          "base_uri": "https://localhost:8080/"
        },
        "outputId": "e0d128de-6fcc-4382-9294-15fbbe763634"
      },
      "execution_count": 1,
      "outputs": [
        {
          "output_type": "stream",
          "name": "stdout",
          "text": [
            "--2023-01-25 17:15:45--  https://github.com/TharinduDR/CS3MIR/raw/main/data/bbc_sport_docs.zip\n",
            "Resolving github.com (github.com)... 140.82.121.3\n",
            "Connecting to github.com (github.com)|140.82.121.3|:443... connected.\n",
            "HTTP request sent, awaiting response... 302 Found\n",
            "Location: https://raw.githubusercontent.com/TharinduDR/CS3MIR/main/data/bbc_sport_docs.zip [following]\n",
            "--2023-01-25 17:15:45--  https://raw.githubusercontent.com/TharinduDR/CS3MIR/main/data/bbc_sport_docs.zip\n",
            "Resolving raw.githubusercontent.com (raw.githubusercontent.com)... 185.199.109.133, 185.199.108.133, 185.199.111.133, ...\n",
            "Connecting to raw.githubusercontent.com (raw.githubusercontent.com)|185.199.109.133|:443... connected.\n",
            "HTTP request sent, awaiting response... 200 OK\n",
            "Length: 1104592 (1.1M) [application/zip]\n",
            "Saving to: ‘bbc_sport_docs.zip’\n",
            "\n",
            "\rbbc_sport_docs.zip    0%[                    ]       0  --.-KB/s               \rbbc_sport_docs.zip  100%[===================>]   1.05M  --.-KB/s    in 0.02s   \n",
            "\n",
            "2023-01-25 17:15:45 (56.7 MB/s) - ‘bbc_sport_docs.zip’ saved [1104592/1104592]\n",
            "\n"
          ]
        }
      ]
    },
    {
      "cell_type": "code",
      "source": [
        "!unzip bbc_sport_docs.zip -d docs"
      ],
      "metadata": {
        "id": "UXXQjfFe8P2V",
        "colab": {
          "base_uri": "https://localhost:8080/"
        },
        "outputId": "4b833c22-c259-440f-a9dd-51089e02d1e2"
      },
      "execution_count": 2,
      "outputs": [
        {
          "output_type": "stream",
          "name": "stdout",
          "text": [
            "Archive:  bbc_sport_docs.zip\n",
            "replace docs/000.txt? [y]es, [n]o, [A]ll, [N]one, [r]ename: A\n",
            "  inflating: docs/000.txt            \n",
            "  inflating: docs/__MACOSX/._000.txt  \n",
            "  inflating: docs/001.txt            \n",
            "  inflating: docs/__MACOSX/._001.txt  \n",
            "  inflating: docs/002.txt            \n",
            "  inflating: docs/__MACOSX/._002.txt  \n",
            "  inflating: docs/003.txt            \n",
            "  inflating: docs/__MACOSX/._003.txt  \n",
            "  inflating: docs/004.txt            \n",
            "  inflating: docs/__MACOSX/._004.txt  \n",
            "  inflating: docs/005.txt            \n",
            "  inflating: docs/__MACOSX/._005.txt  \n",
            "  inflating: docs/006.txt            \n",
            "  inflating: docs/__MACOSX/._006.txt  \n",
            "  inflating: docs/007.txt            \n",
            "  inflating: docs/__MACOSX/._007.txt  \n",
            "  inflating: docs/008.txt            \n",
            "  inflating: docs/__MACOSX/._008.txt  \n",
            "  inflating: docs/009.txt            \n",
            "  inflating: docs/__MACOSX/._009.txt  \n",
            "  inflating: docs/010.txt            \n",
            "  inflating: docs/__MACOSX/._010.txt  \n",
            "  inflating: docs/011.txt            \n",
            "  inflating: docs/__MACOSX/._011.txt  \n",
            "  inflating: docs/012.txt            \n",
            "  inflating: docs/__MACOSX/._012.txt  \n",
            "  inflating: docs/013.txt            \n",
            "  inflating: docs/__MACOSX/._013.txt  \n",
            "  inflating: docs/014.txt            \n",
            "  inflating: docs/__MACOSX/._014.txt  \n",
            "  inflating: docs/015.txt            \n",
            "  inflating: docs/__MACOSX/._015.txt  \n",
            "  inflating: docs/016.txt            \n",
            "  inflating: docs/__MACOSX/._016.txt  \n",
            "  inflating: docs/017.txt            \n",
            "  inflating: docs/__MACOSX/._017.txt  \n",
            "  inflating: docs/018.txt            \n",
            "  inflating: docs/__MACOSX/._018.txt  \n",
            "  inflating: docs/019.txt            \n",
            "  inflating: docs/__MACOSX/._019.txt  \n",
            "  inflating: docs/020.txt            \n",
            "  inflating: docs/__MACOSX/._020.txt  \n",
            "  inflating: docs/021.txt            \n",
            "  inflating: docs/__MACOSX/._021.txt  \n",
            "  inflating: docs/022.txt            \n",
            "  inflating: docs/__MACOSX/._022.txt  \n",
            "  inflating: docs/023.txt            \n",
            "  inflating: docs/__MACOSX/._023.txt  \n",
            "  inflating: docs/024.txt            \n",
            "  inflating: docs/__MACOSX/._024.txt  \n",
            "  inflating: docs/025.txt            \n",
            "  inflating: docs/__MACOSX/._025.txt  \n",
            "  inflating: docs/026.txt            \n",
            "  inflating: docs/__MACOSX/._026.txt  \n",
            "  inflating: docs/027.txt            \n",
            "  inflating: docs/__MACOSX/._027.txt  \n",
            "  inflating: docs/028.txt            \n",
            "  inflating: docs/__MACOSX/._028.txt  \n",
            "  inflating: docs/029.txt            \n",
            "  inflating: docs/__MACOSX/._029.txt  \n",
            "  inflating: docs/030.txt            \n",
            "  inflating: docs/__MACOSX/._030.txt  \n",
            "  inflating: docs/031.txt            \n",
            "  inflating: docs/__MACOSX/._031.txt  \n",
            "  inflating: docs/032.txt            \n",
            "  inflating: docs/__MACOSX/._032.txt  \n",
            "  inflating: docs/033.txt            \n",
            "  inflating: docs/__MACOSX/._033.txt  \n",
            "  inflating: docs/034.txt            \n",
            "  inflating: docs/__MACOSX/._034.txt  \n",
            "  inflating: docs/035.txt            \n",
            "  inflating: docs/__MACOSX/._035.txt  \n",
            "  inflating: docs/036.txt            \n",
            "  inflating: docs/__MACOSX/._036.txt  \n",
            "  inflating: docs/037.txt            \n",
            "  inflating: docs/__MACOSX/._037.txt  \n",
            "  inflating: docs/038.txt            \n",
            "  inflating: docs/__MACOSX/._038.txt  \n",
            "  inflating: docs/039.txt            \n",
            "  inflating: docs/__MACOSX/._039.txt  \n",
            "  inflating: docs/040.txt            \n",
            "  inflating: docs/__MACOSX/._040.txt  \n",
            "  inflating: docs/041.txt            \n",
            "  inflating: docs/__MACOSX/._041.txt  \n",
            "  inflating: docs/042.txt            \n",
            "  inflating: docs/__MACOSX/._042.txt  \n",
            "  inflating: docs/043.txt            \n",
            "  inflating: docs/__MACOSX/._043.txt  \n",
            "  inflating: docs/044.txt            \n",
            "  inflating: docs/__MACOSX/._044.txt  \n",
            "  inflating: docs/045.txt            \n",
            "  inflating: docs/__MACOSX/._045.txt  \n",
            "  inflating: docs/046.txt            \n",
            "  inflating: docs/__MACOSX/._046.txt  \n",
            "  inflating: docs/047.txt            \n",
            "  inflating: docs/__MACOSX/._047.txt  \n",
            "  inflating: docs/048.txt            \n",
            "  inflating: docs/__MACOSX/._048.txt  \n",
            "  inflating: docs/049.txt            \n",
            "  inflating: docs/__MACOSX/._049.txt  \n",
            "  inflating: docs/050.txt            \n",
            "  inflating: docs/__MACOSX/._050.txt  \n",
            "  inflating: docs/051.txt            \n",
            "  inflating: docs/__MACOSX/._051.txt  \n",
            "  inflating: docs/052.txt            \n",
            "  inflating: docs/__MACOSX/._052.txt  \n",
            "  inflating: docs/053.txt            \n",
            "  inflating: docs/__MACOSX/._053.txt  \n",
            "  inflating: docs/054.txt            \n",
            "  inflating: docs/__MACOSX/._054.txt  \n",
            "  inflating: docs/055.txt            \n",
            "  inflating: docs/__MACOSX/._055.txt  \n",
            "  inflating: docs/056.txt            \n",
            "  inflating: docs/__MACOSX/._056.txt  \n",
            "  inflating: docs/057.txt            \n",
            "  inflating: docs/__MACOSX/._057.txt  \n",
            "  inflating: docs/058.txt            \n",
            "  inflating: docs/__MACOSX/._058.txt  \n",
            "  inflating: docs/059.txt            \n",
            "  inflating: docs/__MACOSX/._059.txt  \n",
            "  inflating: docs/060.txt            \n",
            "  inflating: docs/__MACOSX/._060.txt  \n",
            "  inflating: docs/061.txt            \n",
            "  inflating: docs/__MACOSX/._061.txt  \n",
            "  inflating: docs/062.txt            \n",
            "  inflating: docs/__MACOSX/._062.txt  \n",
            "  inflating: docs/063.txt            \n",
            "  inflating: docs/__MACOSX/._063.txt  \n",
            "  inflating: docs/064.txt            \n",
            "  inflating: docs/__MACOSX/._064.txt  \n",
            "  inflating: docs/065.txt            \n",
            "  inflating: docs/__MACOSX/._065.txt  \n",
            "  inflating: docs/066.txt            \n",
            "  inflating: docs/__MACOSX/._066.txt  \n",
            "  inflating: docs/067.txt            \n",
            "  inflating: docs/__MACOSX/._067.txt  \n",
            "  inflating: docs/068.txt            \n",
            "  inflating: docs/__MACOSX/._068.txt  \n",
            "  inflating: docs/069.txt            \n",
            "  inflating: docs/__MACOSX/._069.txt  \n",
            "  inflating: docs/070.txt            \n",
            "  inflating: docs/__MACOSX/._070.txt  \n",
            "  inflating: docs/071.txt            \n",
            "  inflating: docs/__MACOSX/._071.txt  \n",
            "  inflating: docs/072.txt            \n",
            "  inflating: docs/__MACOSX/._072.txt  \n",
            "  inflating: docs/073.txt            \n",
            "  inflating: docs/__MACOSX/._073.txt  \n",
            "  inflating: docs/074.txt            \n",
            "  inflating: docs/__MACOSX/._074.txt  \n",
            "  inflating: docs/075.txt            \n",
            "  inflating: docs/__MACOSX/._075.txt  \n",
            "  inflating: docs/076.txt            \n",
            "  inflating: docs/__MACOSX/._076.txt  \n",
            "  inflating: docs/077.txt            \n",
            "  inflating: docs/__MACOSX/._077.txt  \n",
            "  inflating: docs/078.txt            \n",
            "  inflating: docs/__MACOSX/._078.txt  \n",
            "  inflating: docs/079.txt            \n",
            "  inflating: docs/__MACOSX/._079.txt  \n",
            "  inflating: docs/080.txt            \n",
            "  inflating: docs/__MACOSX/._080.txt  \n",
            "  inflating: docs/081.txt            \n",
            "  inflating: docs/__MACOSX/._081.txt  \n",
            "  inflating: docs/082.txt            \n",
            "  inflating: docs/__MACOSX/._082.txt  \n",
            "  inflating: docs/083.txt            \n",
            "  inflating: docs/__MACOSX/._083.txt  \n",
            "  inflating: docs/084.txt            \n",
            "  inflating: docs/__MACOSX/._084.txt  \n",
            "  inflating: docs/085.txt            \n",
            "  inflating: docs/__MACOSX/._085.txt  \n",
            "  inflating: docs/086.txt            \n",
            "  inflating: docs/__MACOSX/._086.txt  \n",
            "  inflating: docs/087.txt            \n",
            "  inflating: docs/__MACOSX/._087.txt  \n",
            "  inflating: docs/088.txt            \n",
            "  inflating: docs/__MACOSX/._088.txt  \n",
            "  inflating: docs/089.txt            \n",
            "  inflating: docs/__MACOSX/._089.txt  \n",
            "  inflating: docs/090.txt            \n",
            "  inflating: docs/__MACOSX/._090.txt  \n",
            "  inflating: docs/091.txt            \n",
            "  inflating: docs/__MACOSX/._091.txt  \n",
            "  inflating: docs/092.txt            \n",
            "  inflating: docs/__MACOSX/._092.txt  \n",
            "  inflating: docs/093.txt            \n",
            "  inflating: docs/__MACOSX/._093.txt  \n",
            "  inflating: docs/094.txt            \n",
            "  inflating: docs/__MACOSX/._094.txt  \n",
            "  inflating: docs/095.txt            \n",
            "  inflating: docs/__MACOSX/._095.txt  \n",
            "  inflating: docs/096.txt            \n",
            "  inflating: docs/__MACOSX/._096.txt  \n",
            "  inflating: docs/097.txt            \n",
            "  inflating: docs/__MACOSX/._097.txt  \n",
            "  inflating: docs/098.txt            \n",
            "  inflating: docs/__MACOSX/._098.txt  \n",
            "  inflating: docs/099.txt            \n",
            "  inflating: docs/__MACOSX/._099.txt  \n",
            "  inflating: docs/100.txt            \n",
            "  inflating: docs/__MACOSX/._100.txt  \n",
            "  inflating: docs/101.txt            \n",
            "  inflating: docs/__MACOSX/._101.txt  \n",
            "  inflating: docs/102.txt            \n",
            "  inflating: docs/__MACOSX/._102.txt  \n",
            "  inflating: docs/103.txt            \n",
            "  inflating: docs/__MACOSX/._103.txt  \n",
            "  inflating: docs/104.txt            \n",
            "  inflating: docs/__MACOSX/._104.txt  \n",
            "  inflating: docs/105.txt            \n",
            "  inflating: docs/__MACOSX/._105.txt  \n",
            "  inflating: docs/106.txt            \n",
            "  inflating: docs/__MACOSX/._106.txt  \n",
            "  inflating: docs/107.txt            \n",
            "  inflating: docs/__MACOSX/._107.txt  \n",
            "  inflating: docs/108.txt            \n",
            "  inflating: docs/__MACOSX/._108.txt  \n",
            "  inflating: docs/109.txt            \n",
            "  inflating: docs/__MACOSX/._109.txt  \n",
            "  inflating: docs/110.txt            \n",
            "  inflating: docs/__MACOSX/._110.txt  \n",
            "  inflating: docs/111.txt            \n",
            "  inflating: docs/__MACOSX/._111.txt  \n",
            "  inflating: docs/112.txt            \n",
            "  inflating: docs/__MACOSX/._112.txt  \n",
            "  inflating: docs/113.txt            \n",
            "  inflating: docs/__MACOSX/._113.txt  \n",
            "  inflating: docs/114.txt            \n",
            "  inflating: docs/__MACOSX/._114.txt  \n",
            "  inflating: docs/115.txt            \n",
            "  inflating: docs/__MACOSX/._115.txt  \n",
            "  inflating: docs/116.txt            \n",
            "  inflating: docs/__MACOSX/._116.txt  \n",
            "  inflating: docs/117.txt            \n",
            "  inflating: docs/__MACOSX/._117.txt  \n",
            "  inflating: docs/118.txt            \n",
            "  inflating: docs/__MACOSX/._118.txt  \n",
            "  inflating: docs/119.txt            \n",
            "  inflating: docs/__MACOSX/._119.txt  \n",
            "  inflating: docs/120.txt            \n",
            "  inflating: docs/__MACOSX/._120.txt  \n",
            "  inflating: docs/121.txt            \n",
            "  inflating: docs/__MACOSX/._121.txt  \n",
            "  inflating: docs/122.txt            \n",
            "  inflating: docs/__MACOSX/._122.txt  \n",
            "  inflating: docs/123.txt            \n",
            "  inflating: docs/__MACOSX/._123.txt  \n",
            "  inflating: docs/124.txt            \n",
            "  inflating: docs/__MACOSX/._124.txt  \n",
            "  inflating: docs/125.txt            \n",
            "  inflating: docs/__MACOSX/._125.txt  \n",
            "  inflating: docs/126.txt            \n",
            "  inflating: docs/__MACOSX/._126.txt  \n",
            "  inflating: docs/127.txt            \n",
            "  inflating: docs/__MACOSX/._127.txt  \n",
            "  inflating: docs/128.txt            \n",
            "  inflating: docs/__MACOSX/._128.txt  \n",
            "  inflating: docs/129.txt            \n",
            "  inflating: docs/__MACOSX/._129.txt  \n",
            "  inflating: docs/130.txt            \n",
            "  inflating: docs/__MACOSX/._130.txt  \n",
            "  inflating: docs/131.txt            \n",
            "  inflating: docs/__MACOSX/._131.txt  \n",
            "  inflating: docs/132.txt            \n",
            "  inflating: docs/__MACOSX/._132.txt  \n",
            "  inflating: docs/133.txt            \n",
            "  inflating: docs/__MACOSX/._133.txt  \n",
            "  inflating: docs/134.txt            \n",
            "  inflating: docs/__MACOSX/._134.txt  \n",
            "  inflating: docs/135.txt            \n",
            "  inflating: docs/__MACOSX/._135.txt  \n",
            "  inflating: docs/136.txt            \n",
            "  inflating: docs/__MACOSX/._136.txt  \n",
            "  inflating: docs/137.txt            \n",
            "  inflating: docs/__MACOSX/._137.txt  \n",
            "  inflating: docs/138.txt            \n",
            "  inflating: docs/__MACOSX/._138.txt  \n",
            "  inflating: docs/139.txt            \n",
            "  inflating: docs/__MACOSX/._139.txt  \n",
            "  inflating: docs/140.txt            \n",
            "  inflating: docs/__MACOSX/._140.txt  \n",
            "  inflating: docs/141.txt            \n",
            "  inflating: docs/__MACOSX/._141.txt  \n",
            "  inflating: docs/142.txt            \n",
            "  inflating: docs/__MACOSX/._142.txt  \n",
            "  inflating: docs/143.txt            \n",
            "  inflating: docs/__MACOSX/._143.txt  \n",
            "  inflating: docs/144.txt            \n",
            "  inflating: docs/__MACOSX/._144.txt  \n",
            "  inflating: docs/145.txt            \n",
            "  inflating: docs/__MACOSX/._145.txt  \n",
            "  inflating: docs/146.txt            \n",
            "  inflating: docs/__MACOSX/._146.txt  \n",
            "  inflating: docs/147.txt            \n",
            "  inflating: docs/__MACOSX/._147.txt  \n",
            "  inflating: docs/148.txt            \n",
            "  inflating: docs/__MACOSX/._148.txt  \n",
            "  inflating: docs/149.txt            \n",
            "  inflating: docs/__MACOSX/._149.txt  \n",
            "  inflating: docs/150.txt            \n",
            "  inflating: docs/__MACOSX/._150.txt  \n",
            "  inflating: docs/151.txt            \n",
            "  inflating: docs/__MACOSX/._151.txt  \n",
            "  inflating: docs/152.txt            \n",
            "  inflating: docs/__MACOSX/._152.txt  \n",
            "  inflating: docs/153.txt            \n",
            "  inflating: docs/__MACOSX/._153.txt  \n",
            "  inflating: docs/154.txt            \n",
            "  inflating: docs/__MACOSX/._154.txt  \n",
            "  inflating: docs/155.txt            \n",
            "  inflating: docs/__MACOSX/._155.txt  \n",
            "  inflating: docs/156.txt            \n",
            "  inflating: docs/__MACOSX/._156.txt  \n",
            "  inflating: docs/157.txt            \n",
            "  inflating: docs/__MACOSX/._157.txt  \n",
            "  inflating: docs/158.txt            \n",
            "  inflating: docs/__MACOSX/._158.txt  \n",
            "  inflating: docs/159.txt            \n",
            "  inflating: docs/__MACOSX/._159.txt  \n",
            "  inflating: docs/160.txt            \n",
            "  inflating: docs/__MACOSX/._160.txt  \n",
            "  inflating: docs/161.txt            \n",
            "  inflating: docs/__MACOSX/._161.txt  \n",
            "  inflating: docs/162.txt            \n",
            "  inflating: docs/__MACOSX/._162.txt  \n",
            "  inflating: docs/163.txt            \n",
            "  inflating: docs/__MACOSX/._163.txt  \n",
            "  inflating: docs/164.txt            \n",
            "  inflating: docs/__MACOSX/._164.txt  \n",
            "  inflating: docs/165.txt            \n",
            "  inflating: docs/__MACOSX/._165.txt  \n",
            "  inflating: docs/166.txt            \n",
            "  inflating: docs/__MACOSX/._166.txt  \n",
            "  inflating: docs/167.txt            \n",
            "  inflating: docs/__MACOSX/._167.txt  \n",
            "  inflating: docs/168.txt            \n",
            "  inflating: docs/__MACOSX/._168.txt  \n",
            "  inflating: docs/169.txt            \n",
            "  inflating: docs/__MACOSX/._169.txt  \n",
            "  inflating: docs/170.txt            \n",
            "  inflating: docs/__MACOSX/._170.txt  \n",
            "  inflating: docs/171.txt            \n",
            "  inflating: docs/__MACOSX/._171.txt  \n",
            "  inflating: docs/172.txt            \n",
            "  inflating: docs/__MACOSX/._172.txt  \n",
            "  inflating: docs/173.txt            \n",
            "  inflating: docs/__MACOSX/._173.txt  \n",
            "  inflating: docs/174.txt            \n",
            "  inflating: docs/__MACOSX/._174.txt  \n",
            "  inflating: docs/175.txt            \n",
            "  inflating: docs/__MACOSX/._175.txt  \n",
            "  inflating: docs/176.txt            \n",
            "  inflating: docs/__MACOSX/._176.txt  \n",
            "  inflating: docs/177.txt            \n",
            "  inflating: docs/__MACOSX/._177.txt  \n",
            "  inflating: docs/178.txt            \n",
            "  inflating: docs/__MACOSX/._178.txt  \n",
            "  inflating: docs/179.txt            \n",
            "  inflating: docs/__MACOSX/._179.txt  \n",
            "  inflating: docs/180.txt            \n",
            "  inflating: docs/__MACOSX/._180.txt  \n",
            "  inflating: docs/181.txt            \n",
            "  inflating: docs/__MACOSX/._181.txt  \n",
            "  inflating: docs/182.txt            \n",
            "  inflating: docs/__MACOSX/._182.txt  \n",
            "  inflating: docs/183.txt            \n",
            "  inflating: docs/__MACOSX/._183.txt  \n",
            "  inflating: docs/184.txt            \n",
            "  inflating: docs/__MACOSX/._184.txt  \n",
            "  inflating: docs/185.txt            \n",
            "  inflating: docs/__MACOSX/._185.txt  \n",
            "  inflating: docs/186.txt            \n",
            "  inflating: docs/__MACOSX/._186.txt  \n",
            "  inflating: docs/187.txt            \n",
            "  inflating: docs/__MACOSX/._187.txt  \n",
            "  inflating: docs/188.txt            \n",
            "  inflating: docs/__MACOSX/._188.txt  \n",
            "  inflating: docs/189.txt            \n",
            "  inflating: docs/__MACOSX/._189.txt  \n",
            "  inflating: docs/190.txt            \n",
            "  inflating: docs/__MACOSX/._190.txt  \n",
            "  inflating: docs/191.txt            \n",
            "  inflating: docs/__MACOSX/._191.txt  \n",
            "  inflating: docs/192.txt            \n",
            "  inflating: docs/__MACOSX/._192.txt  \n",
            "  inflating: docs/193.txt            \n",
            "  inflating: docs/__MACOSX/._193.txt  \n",
            "  inflating: docs/194.txt            \n",
            "  inflating: docs/__MACOSX/._194.txt  \n",
            "  inflating: docs/195.txt            \n",
            "  inflating: docs/__MACOSX/._195.txt  \n",
            "  inflating: docs/196.txt            \n",
            "  inflating: docs/__MACOSX/._196.txt  \n",
            "  inflating: docs/197.txt            \n",
            "  inflating: docs/__MACOSX/._197.txt  \n",
            "  inflating: docs/198.txt            \n",
            "  inflating: docs/__MACOSX/._198.txt  \n",
            "  inflating: docs/199.txt            \n",
            "  inflating: docs/__MACOSX/._199.txt  \n",
            "  inflating: docs/200.txt            \n",
            "  inflating: docs/__MACOSX/._200.txt  \n",
            "  inflating: docs/201.txt            \n",
            "  inflating: docs/__MACOSX/._201.txt  \n",
            "  inflating: docs/202.txt            \n",
            "  inflating: docs/__MACOSX/._202.txt  \n",
            "  inflating: docs/203.txt            \n",
            "  inflating: docs/__MACOSX/._203.txt  \n",
            "  inflating: docs/204.txt            \n",
            "  inflating: docs/__MACOSX/._204.txt  \n",
            "  inflating: docs/205.txt            \n",
            "  inflating: docs/__MACOSX/._205.txt  \n",
            "  inflating: docs/206.txt            \n",
            "  inflating: docs/__MACOSX/._206.txt  \n",
            "  inflating: docs/207.txt            \n",
            "  inflating: docs/__MACOSX/._207.txt  \n",
            "  inflating: docs/208.txt            \n",
            "  inflating: docs/__MACOSX/._208.txt  \n",
            "  inflating: docs/209.txt            \n",
            "  inflating: docs/__MACOSX/._209.txt  \n",
            "  inflating: docs/210.txt            \n",
            "  inflating: docs/__MACOSX/._210.txt  \n",
            "  inflating: docs/211.txt            \n",
            "  inflating: docs/__MACOSX/._211.txt  \n",
            "  inflating: docs/212.txt            \n",
            "  inflating: docs/__MACOSX/._212.txt  \n",
            "  inflating: docs/213.txt            \n",
            "  inflating: docs/__MACOSX/._213.txt  \n",
            "  inflating: docs/214.txt            \n",
            "  inflating: docs/__MACOSX/._214.txt  \n",
            "  inflating: docs/215.txt            \n",
            "  inflating: docs/__MACOSX/._215.txt  \n",
            "  inflating: docs/216.txt            \n",
            "  inflating: docs/__MACOSX/._216.txt  \n",
            "  inflating: docs/217.txt            \n",
            "  inflating: docs/__MACOSX/._217.txt  \n",
            "  inflating: docs/218.txt            \n",
            "  inflating: docs/__MACOSX/._218.txt  \n",
            "  inflating: docs/219.txt            \n",
            "  inflating: docs/__MACOSX/._219.txt  \n",
            "  inflating: docs/220.txt            \n",
            "  inflating: docs/__MACOSX/._220.txt  \n",
            "  inflating: docs/221.txt            \n",
            "  inflating: docs/__MACOSX/._221.txt  \n",
            "  inflating: docs/222.txt            \n",
            "  inflating: docs/__MACOSX/._222.txt  \n",
            "  inflating: docs/223.txt            \n",
            "  inflating: docs/__MACOSX/._223.txt  \n",
            "  inflating: docs/224.txt            \n",
            "  inflating: docs/__MACOSX/._224.txt  \n",
            "  inflating: docs/225.txt            \n",
            "  inflating: docs/__MACOSX/._225.txt  \n",
            "  inflating: docs/226.txt            \n",
            "  inflating: docs/__MACOSX/._226.txt  \n",
            "  inflating: docs/227.txt            \n",
            "  inflating: docs/__MACOSX/._227.txt  \n",
            "  inflating: docs/228.txt            \n",
            "  inflating: docs/__MACOSX/._228.txt  \n",
            "  inflating: docs/229.txt            \n",
            "  inflating: docs/__MACOSX/._229.txt  \n",
            "  inflating: docs/230.txt            \n",
            "  inflating: docs/__MACOSX/._230.txt  \n",
            "  inflating: docs/231.txt            \n",
            "  inflating: docs/__MACOSX/._231.txt  \n",
            "  inflating: docs/232.txt            \n",
            "  inflating: docs/__MACOSX/._232.txt  \n",
            "  inflating: docs/233.txt            \n",
            "  inflating: docs/__MACOSX/._233.txt  \n",
            "  inflating: docs/234.txt            \n",
            "  inflating: docs/__MACOSX/._234.txt  \n",
            "  inflating: docs/235.txt            \n",
            "  inflating: docs/__MACOSX/._235.txt  \n",
            "  inflating: docs/236.txt            \n",
            "  inflating: docs/__MACOSX/._236.txt  \n",
            "  inflating: docs/237.txt            \n",
            "  inflating: docs/__MACOSX/._237.txt  \n",
            "  inflating: docs/238.txt            \n",
            "  inflating: docs/__MACOSX/._238.txt  \n",
            "  inflating: docs/239.txt            \n",
            "  inflating: docs/__MACOSX/._239.txt  \n",
            "  inflating: docs/240.txt            \n",
            "  inflating: docs/__MACOSX/._240.txt  \n",
            "  inflating: docs/241.txt            \n",
            "  inflating: docs/__MACOSX/._241.txt  \n",
            "  inflating: docs/242.txt            \n",
            "  inflating: docs/__MACOSX/._242.txt  \n",
            "  inflating: docs/243.txt            \n",
            "  inflating: docs/__MACOSX/._243.txt  \n",
            "  inflating: docs/244.txt            \n",
            "  inflating: docs/__MACOSX/._244.txt  \n",
            "  inflating: docs/245.txt            \n",
            "  inflating: docs/__MACOSX/._245.txt  \n",
            "  inflating: docs/246.txt            \n",
            "  inflating: docs/__MACOSX/._246.txt  \n",
            "  inflating: docs/247.txt            \n",
            "  inflating: docs/__MACOSX/._247.txt  \n",
            "  inflating: docs/248.txt            \n",
            "  inflating: docs/__MACOSX/._248.txt  \n",
            "  inflating: docs/249.txt            \n",
            "  inflating: docs/__MACOSX/._249.txt  \n",
            "  inflating: docs/250.txt            \n",
            "  inflating: docs/__MACOSX/._250.txt  \n",
            "  inflating: docs/251.txt            \n",
            "  inflating: docs/__MACOSX/._251.txt  \n",
            "  inflating: docs/252.txt            \n",
            "  inflating: docs/__MACOSX/._252.txt  \n",
            "  inflating: docs/253.txt            \n",
            "  inflating: docs/__MACOSX/._253.txt  \n",
            "  inflating: docs/254.txt            \n",
            "  inflating: docs/__MACOSX/._254.txt  \n",
            "  inflating: docs/255.txt            \n",
            "  inflating: docs/__MACOSX/._255.txt  \n",
            "  inflating: docs/256.txt            \n",
            "  inflating: docs/__MACOSX/._256.txt  \n",
            "  inflating: docs/257.txt            \n",
            "  inflating: docs/__MACOSX/._257.txt  \n",
            "  inflating: docs/258.txt            \n",
            "  inflating: docs/__MACOSX/._258.txt  \n",
            "  inflating: docs/259.txt            \n",
            "  inflating: docs/__MACOSX/._259.txt  \n",
            "  inflating: docs/260.txt            \n",
            "  inflating: docs/__MACOSX/._260.txt  \n",
            "  inflating: docs/261.txt            \n",
            "  inflating: docs/__MACOSX/._261.txt  \n",
            "  inflating: docs/262.txt            \n",
            "  inflating: docs/__MACOSX/._262.txt  \n",
            "  inflating: docs/263.txt            \n",
            "  inflating: docs/__MACOSX/._263.txt  \n",
            "  inflating: docs/264.txt            \n",
            "  inflating: docs/__MACOSX/._264.txt  \n",
            "  inflating: docs/265.txt            \n",
            "  inflating: docs/__MACOSX/._265.txt  \n",
            "  inflating: docs/266.txt            \n",
            "  inflating: docs/__MACOSX/._266.txt  \n",
            "  inflating: docs/267.txt            \n",
            "  inflating: docs/__MACOSX/._267.txt  \n",
            "  inflating: docs/268.txt            \n",
            "  inflating: docs/__MACOSX/._268.txt  \n",
            "  inflating: docs/269.txt            \n",
            "  inflating: docs/__MACOSX/._269.txt  \n",
            "  inflating: docs/270.txt            \n",
            "  inflating: docs/__MACOSX/._270.txt  \n",
            "  inflating: docs/271.txt            \n",
            "  inflating: docs/__MACOSX/._271.txt  \n",
            "  inflating: docs/272.txt            \n",
            "  inflating: docs/__MACOSX/._272.txt  \n",
            "  inflating: docs/273.txt            \n",
            "  inflating: docs/__MACOSX/._273.txt  \n",
            "  inflating: docs/274.txt            \n",
            "  inflating: docs/__MACOSX/._274.txt  \n",
            "  inflating: docs/275.txt            \n",
            "  inflating: docs/__MACOSX/._275.txt  \n",
            "  inflating: docs/276.txt            \n",
            "  inflating: docs/__MACOSX/._276.txt  \n",
            "  inflating: docs/277.txt            \n",
            "  inflating: docs/__MACOSX/._277.txt  \n",
            "  inflating: docs/278.txt            \n",
            "  inflating: docs/__MACOSX/._278.txt  \n",
            "  inflating: docs/279.txt            \n",
            "  inflating: docs/__MACOSX/._279.txt  \n",
            "  inflating: docs/280.txt            \n",
            "  inflating: docs/__MACOSX/._280.txt  \n",
            "  inflating: docs/281.txt            \n",
            "  inflating: docs/__MACOSX/._281.txt  \n",
            "  inflating: docs/282.txt            \n",
            "  inflating: docs/__MACOSX/._282.txt  \n",
            "  inflating: docs/283.txt            \n",
            "  inflating: docs/__MACOSX/._283.txt  \n",
            "  inflating: docs/284.txt            \n",
            "  inflating: docs/__MACOSX/._284.txt  \n",
            "  inflating: docs/285.txt            \n",
            "  inflating: docs/__MACOSX/._285.txt  \n",
            "  inflating: docs/286.txt            \n",
            "  inflating: docs/__MACOSX/._286.txt  \n",
            "  inflating: docs/287.txt            \n",
            "  inflating: docs/__MACOSX/._287.txt  \n",
            "  inflating: docs/288.txt            \n",
            "  inflating: docs/__MACOSX/._288.txt  \n",
            "  inflating: docs/289.txt            \n",
            "  inflating: docs/__MACOSX/._289.txt  \n",
            "  inflating: docs/290.txt            \n",
            "  inflating: docs/__MACOSX/._290.txt  \n",
            "  inflating: docs/291.txt            \n",
            "  inflating: docs/__MACOSX/._291.txt  \n",
            "  inflating: docs/292.txt            \n",
            "  inflating: docs/__MACOSX/._292.txt  \n",
            "  inflating: docs/293.txt            \n",
            "  inflating: docs/__MACOSX/._293.txt  \n",
            "  inflating: docs/294.txt            \n",
            "  inflating: docs/__MACOSX/._294.txt  \n",
            "  inflating: docs/295.txt            \n",
            "  inflating: docs/__MACOSX/._295.txt  \n",
            "  inflating: docs/296.txt            \n",
            "  inflating: docs/__MACOSX/._296.txt  \n",
            "  inflating: docs/297.txt            \n",
            "  inflating: docs/__MACOSX/._297.txt  \n",
            "  inflating: docs/298.txt            \n",
            "  inflating: docs/__MACOSX/._298.txt  \n",
            "  inflating: docs/299.txt            \n",
            "  inflating: docs/__MACOSX/._299.txt  \n",
            "  inflating: docs/300.txt            \n",
            "  inflating: docs/__MACOSX/._300.txt  \n",
            "  inflating: docs/301.txt            \n",
            "  inflating: docs/__MACOSX/._301.txt  \n",
            "  inflating: docs/302.txt            \n",
            "  inflating: docs/__MACOSX/._302.txt  \n",
            "  inflating: docs/303.txt            \n",
            "  inflating: docs/__MACOSX/._303.txt  \n",
            "  inflating: docs/304.txt            \n",
            "  inflating: docs/__MACOSX/._304.txt  \n",
            "  inflating: docs/305.txt            \n",
            "  inflating: docs/__MACOSX/._305.txt  \n",
            "  inflating: docs/306.txt            \n",
            "  inflating: docs/__MACOSX/._306.txt  \n",
            "  inflating: docs/307.txt            \n",
            "  inflating: docs/__MACOSX/._307.txt  \n",
            "  inflating: docs/308.txt            \n",
            "  inflating: docs/__MACOSX/._308.txt  \n",
            "  inflating: docs/309.txt            \n",
            "  inflating: docs/__MACOSX/._309.txt  \n",
            "  inflating: docs/310.txt            \n",
            "  inflating: docs/__MACOSX/._310.txt  \n",
            "  inflating: docs/311.txt            \n",
            "  inflating: docs/__MACOSX/._311.txt  \n",
            "  inflating: docs/312.txt            \n",
            "  inflating: docs/__MACOSX/._312.txt  \n",
            "  inflating: docs/313.txt            \n",
            "  inflating: docs/__MACOSX/._313.txt  \n",
            "  inflating: docs/314.txt            \n",
            "  inflating: docs/__MACOSX/._314.txt  \n",
            "  inflating: docs/315.txt            \n",
            "  inflating: docs/__MACOSX/._315.txt  \n",
            "  inflating: docs/316.txt            \n",
            "  inflating: docs/__MACOSX/._316.txt  \n",
            "  inflating: docs/317.txt            \n",
            "  inflating: docs/__MACOSX/._317.txt  \n",
            "  inflating: docs/318.txt            \n",
            "  inflating: docs/__MACOSX/._318.txt  \n",
            "  inflating: docs/319.txt            \n",
            "  inflating: docs/__MACOSX/._319.txt  \n",
            "  inflating: docs/320.txt            \n",
            "  inflating: docs/__MACOSX/._320.txt  \n",
            "  inflating: docs/321.txt            \n",
            "  inflating: docs/__MACOSX/._321.txt  \n",
            "  inflating: docs/322.txt            \n",
            "  inflating: docs/__MACOSX/._322.txt  \n",
            "  inflating: docs/323.txt            \n",
            "  inflating: docs/__MACOSX/._323.txt  \n",
            "  inflating: docs/324.txt            \n",
            "  inflating: docs/__MACOSX/._324.txt  \n",
            "  inflating: docs/325.txt            \n",
            "  inflating: docs/__MACOSX/._325.txt  \n",
            "  inflating: docs/326.txt            \n",
            "  inflating: docs/__MACOSX/._326.txt  \n",
            "  inflating: docs/327.txt            \n",
            "  inflating: docs/__MACOSX/._327.txt  \n",
            "  inflating: docs/328.txt            \n",
            "  inflating: docs/__MACOSX/._328.txt  \n",
            "  inflating: docs/329.txt            \n",
            "  inflating: docs/__MACOSX/._329.txt  \n",
            "  inflating: docs/330.txt            \n",
            "  inflating: docs/__MACOSX/._330.txt  \n",
            "  inflating: docs/331.txt            \n",
            "  inflating: docs/__MACOSX/._331.txt  \n",
            "  inflating: docs/332.txt            \n",
            "  inflating: docs/__MACOSX/._332.txt  \n",
            "  inflating: docs/333.txt            \n",
            "  inflating: docs/__MACOSX/._333.txt  \n",
            "  inflating: docs/334.txt            \n",
            "  inflating: docs/__MACOSX/._334.txt  \n",
            "  inflating: docs/335.txt            \n",
            "  inflating: docs/__MACOSX/._335.txt  \n",
            "  inflating: docs/336.txt            \n",
            "  inflating: docs/__MACOSX/._336.txt  \n",
            "  inflating: docs/337.txt            \n",
            "  inflating: docs/__MACOSX/._337.txt  \n",
            "  inflating: docs/338.txt            \n",
            "  inflating: docs/__MACOSX/._338.txt  \n",
            "  inflating: docs/339.txt            \n",
            "  inflating: docs/__MACOSX/._339.txt  \n",
            "  inflating: docs/340.txt            \n",
            "  inflating: docs/__MACOSX/._340.txt  \n",
            "  inflating: docs/341.txt            \n",
            "  inflating: docs/__MACOSX/._341.txt  \n",
            "  inflating: docs/342.txt            \n",
            "  inflating: docs/__MACOSX/._342.txt  \n",
            "  inflating: docs/343.txt            \n",
            "  inflating: docs/__MACOSX/._343.txt  \n",
            "  inflating: docs/344.txt            \n",
            "  inflating: docs/__MACOSX/._344.txt  \n",
            "  inflating: docs/345.txt            \n",
            "  inflating: docs/__MACOSX/._345.txt  \n",
            "  inflating: docs/346.txt            \n",
            "  inflating: docs/__MACOSX/._346.txt  \n",
            "  inflating: docs/347.txt            \n",
            "  inflating: docs/__MACOSX/._347.txt  \n",
            "  inflating: docs/348.txt            \n",
            "  inflating: docs/__MACOSX/._348.txt  \n",
            "  inflating: docs/349.txt            \n",
            "  inflating: docs/__MACOSX/._349.txt  \n",
            "  inflating: docs/350.txt            \n",
            "  inflating: docs/__MACOSX/._350.txt  \n",
            "  inflating: docs/351.txt            \n",
            "  inflating: docs/__MACOSX/._351.txt  \n",
            "  inflating: docs/352.txt            \n",
            "  inflating: docs/__MACOSX/._352.txt  \n",
            "  inflating: docs/353.txt            \n",
            "  inflating: docs/__MACOSX/._353.txt  \n",
            "  inflating: docs/354.txt            \n",
            "  inflating: docs/__MACOSX/._354.txt  \n",
            "  inflating: docs/355.txt            \n",
            "  inflating: docs/__MACOSX/._355.txt  \n",
            "  inflating: docs/356.txt            \n",
            "  inflating: docs/__MACOSX/._356.txt  \n",
            "  inflating: docs/357.txt            \n",
            "  inflating: docs/__MACOSX/._357.txt  \n",
            "  inflating: docs/358.txt            \n",
            "  inflating: docs/__MACOSX/._358.txt  \n",
            "  inflating: docs/359.txt            \n",
            "  inflating: docs/__MACOSX/._359.txt  \n",
            "  inflating: docs/360.txt            \n",
            "  inflating: docs/__MACOSX/._360.txt  \n",
            "  inflating: docs/361.txt            \n",
            "  inflating: docs/__MACOSX/._361.txt  \n",
            "  inflating: docs/362.txt            \n",
            "  inflating: docs/__MACOSX/._362.txt  \n",
            "  inflating: docs/363.txt            \n",
            "  inflating: docs/__MACOSX/._363.txt  \n",
            "  inflating: docs/364.txt            \n",
            "  inflating: docs/__MACOSX/._364.txt  \n",
            "  inflating: docs/365.txt            \n",
            "  inflating: docs/__MACOSX/._365.txt  \n",
            "  inflating: docs/366.txt            \n",
            "  inflating: docs/__MACOSX/._366.txt  \n",
            "  inflating: docs/367.txt            \n",
            "  inflating: docs/__MACOSX/._367.txt  \n",
            "  inflating: docs/368.txt            \n",
            "  inflating: docs/__MACOSX/._368.txt  \n",
            "  inflating: docs/369.txt            \n",
            "  inflating: docs/__MACOSX/._369.txt  \n",
            "  inflating: docs/370.txt            \n",
            "  inflating: docs/__MACOSX/._370.txt  \n",
            "  inflating: docs/371.txt            \n",
            "  inflating: docs/__MACOSX/._371.txt  \n",
            "  inflating: docs/372.txt            \n",
            "  inflating: docs/__MACOSX/._372.txt  \n",
            "  inflating: docs/373.txt            \n",
            "  inflating: docs/__MACOSX/._373.txt  \n",
            "  inflating: docs/374.txt            \n",
            "  inflating: docs/__MACOSX/._374.txt  \n",
            "  inflating: docs/375.txt            \n",
            "  inflating: docs/__MACOSX/._375.txt  \n",
            "  inflating: docs/376.txt            \n",
            "  inflating: docs/__MACOSX/._376.txt  \n",
            "  inflating: docs/377.txt            \n",
            "  inflating: docs/__MACOSX/._377.txt  \n",
            "  inflating: docs/378.txt            \n",
            "  inflating: docs/__MACOSX/._378.txt  \n",
            "  inflating: docs/379.txt            \n",
            "  inflating: docs/__MACOSX/._379.txt  \n",
            "  inflating: docs/380.txt            \n",
            "  inflating: docs/__MACOSX/._380.txt  \n",
            "  inflating: docs/381.txt            \n",
            "  inflating: docs/__MACOSX/._381.txt  \n",
            "  inflating: docs/382.txt            \n",
            "  inflating: docs/__MACOSX/._382.txt  \n",
            "  inflating: docs/383.txt            \n",
            "  inflating: docs/__MACOSX/._383.txt  \n",
            "  inflating: docs/384.txt            \n",
            "  inflating: docs/__MACOSX/._384.txt  \n",
            "  inflating: docs/385.txt            \n",
            "  inflating: docs/__MACOSX/._385.txt  \n",
            "  inflating: docs/386.txt            \n",
            "  inflating: docs/__MACOSX/._386.txt  \n",
            "  inflating: docs/387.txt            \n",
            "  inflating: docs/__MACOSX/._387.txt  \n",
            "  inflating: docs/388.txt            \n",
            "  inflating: docs/__MACOSX/._388.txt  \n",
            "  inflating: docs/389.txt            \n",
            "  inflating: docs/__MACOSX/._389.txt  \n",
            "  inflating: docs/390.txt            \n",
            "  inflating: docs/__MACOSX/._390.txt  \n",
            "  inflating: docs/391.txt            \n",
            "  inflating: docs/__MACOSX/._391.txt  \n",
            "  inflating: docs/392.txt            \n",
            "  inflating: docs/__MACOSX/._392.txt  \n",
            "  inflating: docs/393.txt            \n",
            "  inflating: docs/__MACOSX/._393.txt  \n",
            "  inflating: docs/394.txt            \n",
            "  inflating: docs/__MACOSX/._394.txt  \n",
            "  inflating: docs/395.txt            \n",
            "  inflating: docs/__MACOSX/._395.txt  \n",
            "  inflating: docs/396.txt            \n",
            "  inflating: docs/__MACOSX/._396.txt  \n",
            "  inflating: docs/397.txt            \n",
            "  inflating: docs/__MACOSX/._397.txt  \n",
            "  inflating: docs/398.txt            \n",
            "  inflating: docs/__MACOSX/._398.txt  \n",
            "  inflating: docs/399.txt            \n",
            "  inflating: docs/__MACOSX/._399.txt  \n",
            "  inflating: docs/400.txt            \n",
            "  inflating: docs/__MACOSX/._400.txt  \n",
            "  inflating: docs/401.txt            \n",
            "  inflating: docs/__MACOSX/._401.txt  \n",
            "  inflating: docs/402.txt            \n",
            "  inflating: docs/__MACOSX/._402.txt  \n",
            "  inflating: docs/403.txt            \n",
            "  inflating: docs/__MACOSX/._403.txt  \n",
            "  inflating: docs/404.txt            \n",
            "  inflating: docs/__MACOSX/._404.txt  \n",
            "  inflating: docs/405.txt            \n",
            "  inflating: docs/__MACOSX/._405.txt  \n",
            "  inflating: docs/406.txt            \n",
            "  inflating: docs/__MACOSX/._406.txt  \n",
            "  inflating: docs/407.txt            \n",
            "  inflating: docs/__MACOSX/._407.txt  \n",
            "  inflating: docs/408.txt            \n",
            "  inflating: docs/__MACOSX/._408.txt  \n",
            "  inflating: docs/409.txt            \n",
            "  inflating: docs/__MACOSX/._409.txt  \n",
            "  inflating: docs/410.txt            \n",
            "  inflating: docs/__MACOSX/._410.txt  \n",
            "  inflating: docs/411.txt            \n",
            "  inflating: docs/__MACOSX/._411.txt  \n",
            "  inflating: docs/412.txt            \n",
            "  inflating: docs/__MACOSX/._412.txt  \n",
            "  inflating: docs/413.txt            \n",
            "  inflating: docs/__MACOSX/._413.txt  \n",
            "  inflating: docs/414.txt            \n",
            "  inflating: docs/__MACOSX/._414.txt  \n",
            "  inflating: docs/415.txt            \n",
            "  inflating: docs/__MACOSX/._415.txt  \n",
            "  inflating: docs/416.txt            \n",
            "  inflating: docs/__MACOSX/._416.txt  \n",
            "  inflating: docs/417.txt            \n",
            "  inflating: docs/__MACOSX/._417.txt  \n",
            "  inflating: docs/418.txt            \n",
            "  inflating: docs/__MACOSX/._418.txt  \n",
            "  inflating: docs/419.txt            \n",
            "  inflating: docs/__MACOSX/._419.txt  \n",
            "  inflating: docs/420.txt            \n",
            "  inflating: docs/__MACOSX/._420.txt  \n",
            "  inflating: docs/421.txt            \n",
            "  inflating: docs/__MACOSX/._421.txt  \n",
            "  inflating: docs/422.txt            \n",
            "  inflating: docs/__MACOSX/._422.txt  \n",
            "  inflating: docs/423.txt            \n",
            "  inflating: docs/__MACOSX/._423.txt  \n",
            "  inflating: docs/424.txt            \n",
            "  inflating: docs/__MACOSX/._424.txt  \n",
            "  inflating: docs/425.txt            \n",
            "  inflating: docs/__MACOSX/._425.txt  \n",
            "  inflating: docs/426.txt            \n",
            "  inflating: docs/__MACOSX/._426.txt  \n",
            "  inflating: docs/427.txt            \n",
            "  inflating: docs/__MACOSX/._427.txt  \n",
            "  inflating: docs/428.txt            \n",
            "  inflating: docs/__MACOSX/._428.txt  \n",
            "  inflating: docs/429.txt            \n",
            "  inflating: docs/__MACOSX/._429.txt  \n",
            "  inflating: docs/430.txt            \n",
            "  inflating: docs/__MACOSX/._430.txt  \n",
            "  inflating: docs/431.txt            \n",
            "  inflating: docs/__MACOSX/._431.txt  \n",
            "  inflating: docs/432.txt            \n",
            "  inflating: docs/__MACOSX/._432.txt  \n",
            "  inflating: docs/433.txt            \n",
            "  inflating: docs/__MACOSX/._433.txt  \n",
            "  inflating: docs/434.txt            \n",
            "  inflating: docs/__MACOSX/._434.txt  \n",
            "  inflating: docs/435.txt            \n",
            "  inflating: docs/__MACOSX/._435.txt  \n",
            "  inflating: docs/436.txt            \n",
            "  inflating: docs/__MACOSX/._436.txt  \n",
            "  inflating: docs/437.txt            \n",
            "  inflating: docs/__MACOSX/._437.txt  \n",
            "  inflating: docs/438.txt            \n",
            "  inflating: docs/__MACOSX/._438.txt  \n",
            "  inflating: docs/439.txt            \n",
            "  inflating: docs/__MACOSX/._439.txt  \n",
            "  inflating: docs/440.txt            \n",
            "  inflating: docs/__MACOSX/._440.txt  \n",
            "  inflating: docs/441.txt            \n",
            "  inflating: docs/__MACOSX/._441.txt  \n",
            "  inflating: docs/442.txt            \n",
            "  inflating: docs/__MACOSX/._442.txt  \n",
            "  inflating: docs/443.txt            \n",
            "  inflating: docs/__MACOSX/._443.txt  \n",
            "  inflating: docs/444.txt            \n",
            "  inflating: docs/__MACOSX/._444.txt  \n",
            "  inflating: docs/445.txt            \n",
            "  inflating: docs/__MACOSX/._445.txt  \n",
            "  inflating: docs/446.txt            \n",
            "  inflating: docs/__MACOSX/._446.txt  \n",
            "  inflating: docs/447.txt            \n",
            "  inflating: docs/__MACOSX/._447.txt  \n",
            "  inflating: docs/448.txt            \n",
            "  inflating: docs/__MACOSX/._448.txt  \n",
            "  inflating: docs/449.txt            \n",
            "  inflating: docs/__MACOSX/._449.txt  \n",
            "  inflating: docs/450.txt            \n",
            "  inflating: docs/__MACOSX/._450.txt  \n",
            "  inflating: docs/451.txt            \n",
            "  inflating: docs/__MACOSX/._451.txt  \n",
            "  inflating: docs/452.txt            \n",
            "  inflating: docs/__MACOSX/._452.txt  \n",
            "  inflating: docs/453.txt            \n",
            "  inflating: docs/__MACOSX/._453.txt  \n",
            "  inflating: docs/454.txt            \n",
            "  inflating: docs/__MACOSX/._454.txt  \n",
            "  inflating: docs/455.txt            \n",
            "  inflating: docs/__MACOSX/._455.txt  \n",
            "  inflating: docs/456.txt            \n",
            "  inflating: docs/__MACOSX/._456.txt  \n",
            "  inflating: docs/457.txt            \n",
            "  inflating: docs/__MACOSX/._457.txt  \n",
            "  inflating: docs/458.txt            \n",
            "  inflating: docs/__MACOSX/._458.txt  \n",
            "  inflating: docs/459.txt            \n",
            "  inflating: docs/__MACOSX/._459.txt  \n",
            "  inflating: docs/460.txt            \n",
            "  inflating: docs/__MACOSX/._460.txt  \n",
            "  inflating: docs/461.txt            \n",
            "  inflating: docs/__MACOSX/._461.txt  \n",
            "  inflating: docs/462.txt            \n",
            "  inflating: docs/__MACOSX/._462.txt  \n",
            "  inflating: docs/463.txt            \n",
            "  inflating: docs/__MACOSX/._463.txt  \n",
            "  inflating: docs/464.txt            \n",
            "  inflating: docs/__MACOSX/._464.txt  \n",
            "  inflating: docs/465.txt            \n",
            "  inflating: docs/__MACOSX/._465.txt  \n",
            "  inflating: docs/466.txt            \n",
            "  inflating: docs/__MACOSX/._466.txt  \n",
            "  inflating: docs/467.txt            \n",
            "  inflating: docs/__MACOSX/._467.txt  \n",
            "  inflating: docs/468.txt            \n",
            "  inflating: docs/__MACOSX/._468.txt  \n",
            "  inflating: docs/469.txt            \n",
            "  inflating: docs/__MACOSX/._469.txt  \n",
            "  inflating: docs/470.txt            \n",
            "  inflating: docs/__MACOSX/._470.txt  \n",
            "  inflating: docs/471.txt            \n",
            "  inflating: docs/__MACOSX/._471.txt  \n",
            "  inflating: docs/472.txt            \n",
            "  inflating: docs/__MACOSX/._472.txt  \n",
            "  inflating: docs/473.txt            \n",
            "  inflating: docs/__MACOSX/._473.txt  \n",
            "  inflating: docs/474.txt            \n",
            "  inflating: docs/__MACOSX/._474.txt  \n",
            "  inflating: docs/475.txt            \n",
            "  inflating: docs/__MACOSX/._475.txt  \n",
            "  inflating: docs/476.txt            \n",
            "  inflating: docs/__MACOSX/._476.txt  \n",
            "  inflating: docs/477.txt            \n",
            "  inflating: docs/__MACOSX/._477.txt  \n",
            "  inflating: docs/478.txt            \n",
            "  inflating: docs/__MACOSX/._478.txt  \n",
            "  inflating: docs/479.txt            \n",
            "  inflating: docs/__MACOSX/._479.txt  \n",
            "  inflating: docs/480.txt            \n",
            "  inflating: docs/__MACOSX/._480.txt  \n",
            "  inflating: docs/481.txt            \n",
            "  inflating: docs/__MACOSX/._481.txt  \n",
            "  inflating: docs/482.txt            \n",
            "  inflating: docs/__MACOSX/._482.txt  \n",
            "  inflating: docs/483.txt            \n",
            "  inflating: docs/__MACOSX/._483.txt  \n",
            "  inflating: docs/484.txt            \n",
            "  inflating: docs/__MACOSX/._484.txt  \n",
            "  inflating: docs/485.txt            \n",
            "  inflating: docs/__MACOSX/._485.txt  \n",
            "  inflating: docs/486.txt            \n",
            "  inflating: docs/__MACOSX/._486.txt  \n",
            "  inflating: docs/487.txt            \n",
            "  inflating: docs/__MACOSX/._487.txt  \n",
            "  inflating: docs/488.txt            \n",
            "  inflating: docs/__MACOSX/._488.txt  \n",
            "  inflating: docs/489.txt            \n",
            "  inflating: docs/__MACOSX/._489.txt  \n",
            "  inflating: docs/490.txt            \n",
            "  inflating: docs/__MACOSX/._490.txt  \n",
            "  inflating: docs/491.txt            \n",
            "  inflating: docs/__MACOSX/._491.txt  \n",
            "  inflating: docs/492.txt            \n",
            "  inflating: docs/__MACOSX/._492.txt  \n",
            "  inflating: docs/493.txt            \n",
            "  inflating: docs/__MACOSX/._493.txt  \n",
            "  inflating: docs/494.txt            \n",
            "  inflating: docs/__MACOSX/._494.txt  \n",
            "  inflating: docs/495.txt            \n",
            "  inflating: docs/__MACOSX/._495.txt  \n",
            "  inflating: docs/496.txt            \n",
            "  inflating: docs/__MACOSX/._496.txt  \n",
            "  inflating: docs/497.txt            \n",
            "  inflating: docs/__MACOSX/._497.txt  \n",
            "  inflating: docs/498.txt            \n",
            "  inflating: docs/__MACOSX/._498.txt  \n",
            "  inflating: docs/499.txt            \n",
            "  inflating: docs/__MACOSX/._499.txt  \n",
            "  inflating: docs/500.txt            \n",
            "  inflating: docs/__MACOSX/._500.txt  \n",
            "  inflating: docs/501.txt            \n",
            "  inflating: docs/__MACOSX/._501.txt  \n",
            "  inflating: docs/502.txt            \n",
            "  inflating: docs/__MACOSX/._502.txt  \n",
            "  inflating: docs/503.txt            \n",
            "  inflating: docs/__MACOSX/._503.txt  \n",
            "  inflating: docs/504.txt            \n",
            "  inflating: docs/__MACOSX/._504.txt  \n",
            "  inflating: docs/505.txt            \n",
            "  inflating: docs/__MACOSX/._505.txt  \n",
            "  inflating: docs/506.txt            \n",
            "  inflating: docs/__MACOSX/._506.txt  \n",
            "  inflating: docs/507.txt            \n",
            "  inflating: docs/__MACOSX/._507.txt  \n",
            "  inflating: docs/508.txt            \n",
            "  inflating: docs/__MACOSX/._508.txt  \n",
            "  inflating: docs/509.txt            \n",
            "  inflating: docs/__MACOSX/._509.txt  \n",
            "  inflating: docs/510.txt            \n",
            "  inflating: docs/__MACOSX/._510.txt  \n",
            "  inflating: docs/511.txt            \n",
            "  inflating: docs/__MACOSX/._511.txt  \n",
            "  inflating: docs/512.txt            \n",
            "  inflating: docs/__MACOSX/._512.txt  \n",
            "  inflating: docs/513.txt            \n",
            "  inflating: docs/__MACOSX/._513.txt  \n",
            "  inflating: docs/514.txt            \n",
            "  inflating: docs/__MACOSX/._514.txt  \n",
            "  inflating: docs/515.txt            \n",
            "  inflating: docs/__MACOSX/._515.txt  \n",
            "  inflating: docs/516.txt            \n",
            "  inflating: docs/__MACOSX/._516.txt  \n",
            "  inflating: docs/517.txt            \n",
            "  inflating: docs/__MACOSX/._517.txt  \n",
            "  inflating: docs/518.txt            \n",
            "  inflating: docs/__MACOSX/._518.txt  \n",
            "  inflating: docs/519.txt            \n",
            "  inflating: docs/__MACOSX/._519.txt  \n",
            "  inflating: docs/520.txt            \n",
            "  inflating: docs/__MACOSX/._520.txt  \n",
            "  inflating: docs/521.txt            \n",
            "  inflating: docs/__MACOSX/._521.txt  \n",
            "  inflating: docs/522.txt            \n",
            "  inflating: docs/__MACOSX/._522.txt  \n",
            "  inflating: docs/523.txt            \n",
            "  inflating: docs/__MACOSX/._523.txt  \n",
            "  inflating: docs/524.txt            \n",
            "  inflating: docs/__MACOSX/._524.txt  \n",
            "  inflating: docs/525.txt            \n",
            "  inflating: docs/__MACOSX/._525.txt  \n",
            "  inflating: docs/526.txt            \n",
            "  inflating: docs/__MACOSX/._526.txt  \n",
            "  inflating: docs/527.txt            \n",
            "  inflating: docs/__MACOSX/._527.txt  \n",
            "  inflating: docs/528.txt            \n",
            "  inflating: docs/__MACOSX/._528.txt  \n",
            "  inflating: docs/529.txt            \n",
            "  inflating: docs/__MACOSX/._529.txt  \n",
            "  inflating: docs/530.txt            \n",
            "  inflating: docs/__MACOSX/._530.txt  \n",
            "  inflating: docs/531.txt            \n",
            "  inflating: docs/__MACOSX/._531.txt  \n",
            "  inflating: docs/532.txt            \n",
            "  inflating: docs/__MACOSX/._532.txt  \n",
            "  inflating: docs/533.txt            \n",
            "  inflating: docs/__MACOSX/._533.txt  \n",
            "  inflating: docs/534.txt            \n",
            "  inflating: docs/__MACOSX/._534.txt  \n",
            "  inflating: docs/535.txt            \n",
            "  inflating: docs/__MACOSX/._535.txt  \n",
            "  inflating: docs/536.txt            \n",
            "  inflating: docs/__MACOSX/._536.txt  \n",
            "  inflating: docs/537.txt            \n",
            "  inflating: docs/__MACOSX/._537.txt  \n",
            "  inflating: docs/538.txt            \n",
            "  inflating: docs/__MACOSX/._538.txt  \n",
            "  inflating: docs/539.txt            \n",
            "  inflating: docs/__MACOSX/._539.txt  \n",
            "  inflating: docs/540.txt            \n",
            "  inflating: docs/__MACOSX/._540.txt  \n",
            "  inflating: docs/541.txt            \n",
            "  inflating: docs/__MACOSX/._541.txt  \n",
            "  inflating: docs/542.txt            \n",
            "  inflating: docs/__MACOSX/._542.txt  \n",
            "  inflating: docs/543.txt            \n",
            "  inflating: docs/__MACOSX/._543.txt  \n",
            "  inflating: docs/544.txt            \n",
            "  inflating: docs/__MACOSX/._544.txt  \n",
            "  inflating: docs/545.txt            \n",
            "  inflating: docs/__MACOSX/._545.txt  \n",
            "  inflating: docs/546.txt            \n",
            "  inflating: docs/__MACOSX/._546.txt  \n",
            "  inflating: docs/547.txt            \n",
            "  inflating: docs/__MACOSX/._547.txt  \n",
            "  inflating: docs/548.txt            \n",
            "  inflating: docs/__MACOSX/._548.txt  \n",
            "  inflating: docs/549.txt            \n",
            "  inflating: docs/__MACOSX/._549.txt  \n",
            "  inflating: docs/550.txt            \n",
            "  inflating: docs/__MACOSX/._550.txt  \n",
            "  inflating: docs/551.txt            \n",
            "  inflating: docs/__MACOSX/._551.txt  \n",
            "  inflating: docs/552.txt            \n",
            "  inflating: docs/__MACOSX/._552.txt  \n",
            "  inflating: docs/553.txt            \n",
            "  inflating: docs/__MACOSX/._553.txt  \n",
            "  inflating: docs/554.txt            \n",
            "  inflating: docs/__MACOSX/._554.txt  \n",
            "  inflating: docs/555.txt            \n",
            "  inflating: docs/__MACOSX/._555.txt  \n",
            "  inflating: docs/556.txt            \n",
            "  inflating: docs/__MACOSX/._556.txt  \n",
            "  inflating: docs/557.txt            \n",
            "  inflating: docs/__MACOSX/._557.txt  \n",
            "  inflating: docs/558.txt            \n",
            "  inflating: docs/__MACOSX/._558.txt  \n",
            "  inflating: docs/559.txt            \n",
            "  inflating: docs/__MACOSX/._559.txt  \n",
            "  inflating: docs/560.txt            \n",
            "  inflating: docs/__MACOSX/._560.txt  \n",
            "  inflating: docs/561.txt            \n",
            "  inflating: docs/__MACOSX/._561.txt  \n",
            "  inflating: docs/562.txt            \n",
            "  inflating: docs/__MACOSX/._562.txt  \n",
            "  inflating: docs/563.txt            \n",
            "  inflating: docs/__MACOSX/._563.txt  \n",
            "  inflating: docs/564.txt            \n",
            "  inflating: docs/__MACOSX/._564.txt  \n",
            "  inflating: docs/565.txt            \n",
            "  inflating: docs/__MACOSX/._565.txt  \n",
            "  inflating: docs/566.txt            \n",
            "  inflating: docs/__MACOSX/._566.txt  \n",
            "  inflating: docs/567.txt            \n",
            "  inflating: docs/__MACOSX/._567.txt  \n",
            "  inflating: docs/568.txt            \n",
            "  inflating: docs/__MACOSX/._568.txt  \n",
            "  inflating: docs/569.txt            \n",
            "  inflating: docs/__MACOSX/._569.txt  \n",
            "  inflating: docs/570.txt            \n",
            "  inflating: docs/__MACOSX/._570.txt  \n",
            "  inflating: docs/571.txt            \n",
            "  inflating: docs/__MACOSX/._571.txt  \n",
            "  inflating: docs/572.txt            \n",
            "  inflating: docs/__MACOSX/._572.txt  \n",
            "  inflating: docs/573.txt            \n",
            "  inflating: docs/__MACOSX/._573.txt  \n",
            "  inflating: docs/574.txt            \n",
            "  inflating: docs/__MACOSX/._574.txt  \n",
            "  inflating: docs/575.txt            \n",
            "  inflating: docs/__MACOSX/._575.txt  \n",
            "  inflating: docs/576.txt            \n",
            "  inflating: docs/__MACOSX/._576.txt  \n",
            "  inflating: docs/577.txt            \n",
            "  inflating: docs/__MACOSX/._577.txt  \n",
            "  inflating: docs/578.txt            \n",
            "  inflating: docs/__MACOSX/._578.txt  \n",
            "  inflating: docs/579.txt            \n",
            "  inflating: docs/__MACOSX/._579.txt  \n",
            "  inflating: docs/580.txt            \n",
            "  inflating: docs/__MACOSX/._580.txt  \n",
            "  inflating: docs/581.txt            \n",
            "  inflating: docs/__MACOSX/._581.txt  \n",
            "  inflating: docs/582.txt            \n",
            "  inflating: docs/__MACOSX/._582.txt  \n",
            "  inflating: docs/583.txt            \n",
            "  inflating: docs/__MACOSX/._583.txt  \n",
            "  inflating: docs/584.txt            \n",
            "  inflating: docs/__MACOSX/._584.txt  \n",
            "  inflating: docs/585.txt            \n",
            "  inflating: docs/__MACOSX/._585.txt  \n",
            "  inflating: docs/586.txt            \n",
            "  inflating: docs/__MACOSX/._586.txt  \n",
            "  inflating: docs/587.txt            \n",
            "  inflating: docs/__MACOSX/._587.txt  \n",
            "  inflating: docs/588.txt            \n",
            "  inflating: docs/__MACOSX/._588.txt  \n",
            "  inflating: docs/589.txt            \n",
            "  inflating: docs/__MACOSX/._589.txt  \n",
            "  inflating: docs/590.txt            \n",
            "  inflating: docs/__MACOSX/._590.txt  \n",
            "  inflating: docs/591.txt            \n",
            "  inflating: docs/__MACOSX/._591.txt  \n",
            "  inflating: docs/592.txt            \n",
            "  inflating: docs/__MACOSX/._592.txt  \n",
            "  inflating: docs/593.txt            \n",
            "  inflating: docs/__MACOSX/._593.txt  \n",
            "  inflating: docs/594.txt            \n",
            "  inflating: docs/__MACOSX/._594.txt  \n",
            "  inflating: docs/595.txt            \n",
            "  inflating: docs/__MACOSX/._595.txt  \n",
            "  inflating: docs/596.txt            \n",
            "  inflating: docs/__MACOSX/._596.txt  \n",
            "  inflating: docs/597.txt            \n",
            "  inflating: docs/__MACOSX/._597.txt  \n",
            "  inflating: docs/598.txt            \n",
            "  inflating: docs/__MACOSX/._598.txt  \n",
            "  inflating: docs/599.txt            \n",
            "  inflating: docs/__MACOSX/._599.txt  \n",
            "  inflating: docs/600.txt            \n",
            "  inflating: docs/__MACOSX/._600.txt  \n",
            "  inflating: docs/601.txt            \n",
            "  inflating: docs/__MACOSX/._601.txt  \n",
            "  inflating: docs/602.txt            \n",
            "  inflating: docs/__MACOSX/._602.txt  \n",
            "  inflating: docs/603.txt            \n",
            "  inflating: docs/__MACOSX/._603.txt  \n",
            "  inflating: docs/604.txt            \n",
            "  inflating: docs/__MACOSX/._604.txt  \n",
            "  inflating: docs/605.txt            \n",
            "  inflating: docs/__MACOSX/._605.txt  \n",
            "  inflating: docs/606.txt            \n",
            "  inflating: docs/__MACOSX/._606.txt  \n",
            "  inflating: docs/607.txt            \n",
            "  inflating: docs/__MACOSX/._607.txt  \n",
            "  inflating: docs/608.txt            \n",
            "  inflating: docs/__MACOSX/._608.txt  \n",
            "  inflating: docs/609.txt            \n",
            "  inflating: docs/__MACOSX/._609.txt  \n",
            "  inflating: docs/610.txt            \n",
            "  inflating: docs/__MACOSX/._610.txt  \n",
            "  inflating: docs/611.txt            \n",
            "  inflating: docs/__MACOSX/._611.txt  \n",
            "  inflating: docs/612.txt            \n",
            "  inflating: docs/__MACOSX/._612.txt  \n",
            "  inflating: docs/613.txt            \n",
            "  inflating: docs/__MACOSX/._613.txt  \n",
            "  inflating: docs/614.txt            \n",
            "  inflating: docs/__MACOSX/._614.txt  \n",
            "  inflating: docs/615.txt            \n",
            "  inflating: docs/__MACOSX/._615.txt  \n",
            "  inflating: docs/616.txt            \n",
            "  inflating: docs/__MACOSX/._616.txt  \n",
            "  inflating: docs/617.txt            \n",
            "  inflating: docs/__MACOSX/._617.txt  \n",
            "  inflating: docs/618.txt            \n",
            "  inflating: docs/__MACOSX/._618.txt  \n",
            "  inflating: docs/619.txt            \n",
            "  inflating: docs/__MACOSX/._619.txt  \n",
            "  inflating: docs/620.txt            \n",
            "  inflating: docs/__MACOSX/._620.txt  \n",
            "  inflating: docs/621.txt            \n",
            "  inflating: docs/__MACOSX/._621.txt  \n",
            "  inflating: docs/622.txt            \n",
            "  inflating: docs/__MACOSX/._622.txt  \n",
            "  inflating: docs/623.txt            \n",
            "  inflating: docs/__MACOSX/._623.txt  \n",
            "  inflating: docs/624.txt            \n",
            "  inflating: docs/__MACOSX/._624.txt  \n",
            "  inflating: docs/625.txt            \n",
            "  inflating: docs/__MACOSX/._625.txt  \n",
            "  inflating: docs/626.txt            \n",
            "  inflating: docs/__MACOSX/._626.txt  \n",
            "  inflating: docs/627.txt            \n",
            "  inflating: docs/__MACOSX/._627.txt  \n",
            "  inflating: docs/628.txt            \n",
            "  inflating: docs/__MACOSX/._628.txt  \n",
            "  inflating: docs/629.txt            \n",
            "  inflating: docs/__MACOSX/._629.txt  \n",
            "  inflating: docs/630.txt            \n",
            "  inflating: docs/__MACOSX/._630.txt  \n",
            "  inflating: docs/631.txt            \n",
            "  inflating: docs/__MACOSX/._631.txt  \n",
            "  inflating: docs/632.txt            \n",
            "  inflating: docs/__MACOSX/._632.txt  \n",
            "  inflating: docs/633.txt            \n",
            "  inflating: docs/__MACOSX/._633.txt  \n",
            "  inflating: docs/634.txt            \n",
            "  inflating: docs/__MACOSX/._634.txt  \n",
            "  inflating: docs/635.txt            \n",
            "  inflating: docs/__MACOSX/._635.txt  \n",
            "  inflating: docs/636.txt            \n",
            "  inflating: docs/__MACOSX/._636.txt  \n",
            "  inflating: docs/637.txt            \n",
            "  inflating: docs/__MACOSX/._637.txt  \n",
            "  inflating: docs/638.txt            \n",
            "  inflating: docs/__MACOSX/._638.txt  \n",
            "  inflating: docs/639.txt            \n",
            "  inflating: docs/__MACOSX/._639.txt  \n",
            "  inflating: docs/640.txt            \n",
            "  inflating: docs/__MACOSX/._640.txt  \n",
            "  inflating: docs/641.txt            \n",
            "  inflating: docs/__MACOSX/._641.txt  \n",
            "  inflating: docs/642.txt            \n",
            "  inflating: docs/__MACOSX/._642.txt  \n",
            "  inflating: docs/643.txt            \n",
            "  inflating: docs/__MACOSX/._643.txt  \n",
            "  inflating: docs/644.txt            \n",
            "  inflating: docs/__MACOSX/._644.txt  \n",
            "  inflating: docs/645.txt            \n",
            "  inflating: docs/__MACOSX/._645.txt  \n",
            "  inflating: docs/646.txt            \n",
            "  inflating: docs/__MACOSX/._646.txt  \n",
            "  inflating: docs/647.txt            \n",
            "  inflating: docs/__MACOSX/._647.txt  \n",
            "  inflating: docs/648.txt            \n",
            "  inflating: docs/__MACOSX/._648.txt  \n",
            "  inflating: docs/649.txt            \n",
            "  inflating: docs/__MACOSX/._649.txt  \n",
            "  inflating: docs/650.txt            \n",
            "  inflating: docs/__MACOSX/._650.txt  \n",
            "  inflating: docs/651.txt            \n",
            "  inflating: docs/__MACOSX/._651.txt  \n",
            "  inflating: docs/652.txt            \n",
            "  inflating: docs/__MACOSX/._652.txt  \n",
            "  inflating: docs/653.txt            \n",
            "  inflating: docs/__MACOSX/._653.txt  \n",
            "  inflating: docs/654.txt            \n",
            "  inflating: docs/__MACOSX/._654.txt  \n",
            "  inflating: docs/655.txt            \n",
            "  inflating: docs/__MACOSX/._655.txt  \n",
            "  inflating: docs/656.txt            \n",
            "  inflating: docs/__MACOSX/._656.txt  \n",
            "  inflating: docs/657.txt            \n",
            "  inflating: docs/__MACOSX/._657.txt  \n",
            "  inflating: docs/658.txt            \n",
            "  inflating: docs/__MACOSX/._658.txt  \n",
            "  inflating: docs/659.txt            \n",
            "  inflating: docs/__MACOSX/._659.txt  \n",
            "  inflating: docs/660.txt            \n",
            "  inflating: docs/__MACOSX/._660.txt  \n",
            "  inflating: docs/661.txt            \n",
            "  inflating: docs/__MACOSX/._661.txt  \n",
            "  inflating: docs/662.txt            \n",
            "  inflating: docs/__MACOSX/._662.txt  \n",
            "  inflating: docs/663.txt            \n",
            "  inflating: docs/__MACOSX/._663.txt  \n",
            "  inflating: docs/664.txt            \n",
            "  inflating: docs/__MACOSX/._664.txt  \n",
            "  inflating: docs/665.txt            \n",
            "  inflating: docs/__MACOSX/._665.txt  \n",
            "  inflating: docs/666.txt            \n",
            "  inflating: docs/__MACOSX/._666.txt  \n",
            "  inflating: docs/667.txt            \n",
            "  inflating: docs/__MACOSX/._667.txt  \n",
            "  inflating: docs/668.txt            \n",
            "  inflating: docs/__MACOSX/._668.txt  \n",
            "  inflating: docs/669.txt            \n",
            "  inflating: docs/__MACOSX/._669.txt  \n",
            "  inflating: docs/670.txt            \n",
            "  inflating: docs/__MACOSX/._670.txt  \n",
            "  inflating: docs/671.txt            \n",
            "  inflating: docs/__MACOSX/._671.txt  \n",
            "  inflating: docs/672.txt            \n",
            "  inflating: docs/__MACOSX/._672.txt  \n",
            "  inflating: docs/673.txt            \n",
            "  inflating: docs/__MACOSX/._673.txt  \n",
            "  inflating: docs/674.txt            \n",
            "  inflating: docs/__MACOSX/._674.txt  \n",
            "  inflating: docs/675.txt            \n",
            "  inflating: docs/__MACOSX/._675.txt  \n",
            "  inflating: docs/676.txt            \n",
            "  inflating: docs/__MACOSX/._676.txt  \n",
            "  inflating: docs/677.txt            \n",
            "  inflating: docs/__MACOSX/._677.txt  \n",
            "  inflating: docs/678.txt            \n",
            "  inflating: docs/__MACOSX/._678.txt  \n",
            "  inflating: docs/679.txt            \n",
            "  inflating: docs/__MACOSX/._679.txt  \n",
            "  inflating: docs/680.txt            \n",
            "  inflating: docs/__MACOSX/._680.txt  \n",
            "  inflating: docs/681.txt            \n",
            "  inflating: docs/__MACOSX/._681.txt  \n",
            "  inflating: docs/682.txt            \n",
            "  inflating: docs/__MACOSX/._682.txt  \n",
            "  inflating: docs/683.txt            \n",
            "  inflating: docs/__MACOSX/._683.txt  \n",
            "  inflating: docs/684.txt            \n",
            "  inflating: docs/__MACOSX/._684.txt  \n",
            "  inflating: docs/685.txt            \n",
            "  inflating: docs/__MACOSX/._685.txt  \n",
            "  inflating: docs/686.txt            \n",
            "  inflating: docs/__MACOSX/._686.txt  \n",
            "  inflating: docs/687.txt            \n",
            "  inflating: docs/__MACOSX/._687.txt  \n",
            "  inflating: docs/688.txt            \n",
            "  inflating: docs/__MACOSX/._688.txt  \n",
            "  inflating: docs/689.txt            \n",
            "  inflating: docs/__MACOSX/._689.txt  \n",
            "  inflating: docs/690.txt            \n",
            "  inflating: docs/__MACOSX/._690.txt  \n",
            "  inflating: docs/691.txt            \n",
            "  inflating: docs/__MACOSX/._691.txt  \n",
            "  inflating: docs/692.txt            \n",
            "  inflating: docs/__MACOSX/._692.txt  \n",
            "  inflating: docs/693.txt            \n",
            "  inflating: docs/__MACOSX/._693.txt  \n",
            "  inflating: docs/694.txt            \n",
            "  inflating: docs/__MACOSX/._694.txt  \n",
            "  inflating: docs/695.txt            \n",
            "  inflating: docs/__MACOSX/._695.txt  \n",
            "  inflating: docs/696.txt            \n",
            "  inflating: docs/__MACOSX/._696.txt  \n",
            "  inflating: docs/697.txt            \n",
            "  inflating: docs/__MACOSX/._697.txt  \n",
            "  inflating: docs/698.txt            \n",
            "  inflating: docs/__MACOSX/._698.txt  \n",
            "  inflating: docs/699.txt            \n",
            "  inflating: docs/__MACOSX/._699.txt  \n",
            "  inflating: docs/700.txt            \n",
            "  inflating: docs/__MACOSX/._700.txt  \n",
            "  inflating: docs/701.txt            \n",
            "  inflating: docs/__MACOSX/._701.txt  \n",
            "  inflating: docs/702.txt            \n",
            "  inflating: docs/__MACOSX/._702.txt  \n",
            "  inflating: docs/703.txt            \n",
            "  inflating: docs/__MACOSX/._703.txt  \n",
            "  inflating: docs/704.txt            \n",
            "  inflating: docs/__MACOSX/._704.txt  \n",
            "  inflating: docs/705.txt            \n",
            "  inflating: docs/__MACOSX/._705.txt  \n",
            "  inflating: docs/706.txt            \n",
            "  inflating: docs/__MACOSX/._706.txt  \n",
            "  inflating: docs/707.txt            \n",
            "  inflating: docs/__MACOSX/._707.txt  \n",
            "  inflating: docs/708.txt            \n",
            "  inflating: docs/__MACOSX/._708.txt  \n",
            "  inflating: docs/709.txt            \n",
            "  inflating: docs/__MACOSX/._709.txt  \n",
            "  inflating: docs/710.txt            \n",
            "  inflating: docs/__MACOSX/._710.txt  \n",
            "  inflating: docs/711.txt            \n",
            "  inflating: docs/__MACOSX/._711.txt  \n",
            "  inflating: docs/712.txt            \n",
            "  inflating: docs/__MACOSX/._712.txt  \n",
            "  inflating: docs/713.txt            \n",
            "  inflating: docs/__MACOSX/._713.txt  \n",
            "  inflating: docs/714.txt            \n",
            "  inflating: docs/__MACOSX/._714.txt  \n",
            "  inflating: docs/715.txt            \n",
            "  inflating: docs/__MACOSX/._715.txt  \n",
            "  inflating: docs/716.txt            \n",
            "  inflating: docs/__MACOSX/._716.txt  \n",
            "  inflating: docs/717.txt            \n",
            "  inflating: docs/__MACOSX/._717.txt  \n",
            "  inflating: docs/718.txt            \n",
            "  inflating: docs/__MACOSX/._718.txt  \n",
            "  inflating: docs/719.txt            \n",
            "  inflating: docs/__MACOSX/._719.txt  \n",
            "  inflating: docs/720.txt            \n",
            "  inflating: docs/__MACOSX/._720.txt  \n",
            "  inflating: docs/721.txt            \n",
            "  inflating: docs/__MACOSX/._721.txt  \n",
            "  inflating: docs/722.txt            \n",
            "  inflating: docs/__MACOSX/._722.txt  \n",
            "  inflating: docs/723.txt            \n",
            "  inflating: docs/__MACOSX/._723.txt  \n",
            "  inflating: docs/724.txt            \n",
            "  inflating: docs/__MACOSX/._724.txt  \n",
            "  inflating: docs/725.txt            \n",
            "  inflating: docs/__MACOSX/._725.txt  \n",
            "  inflating: docs/726.txt            \n",
            "  inflating: docs/__MACOSX/._726.txt  \n",
            "  inflating: docs/727.txt            \n",
            "  inflating: docs/__MACOSX/._727.txt  \n",
            "  inflating: docs/728.txt            \n",
            "  inflating: docs/__MACOSX/._728.txt  \n",
            "  inflating: docs/729.txt            \n",
            "  inflating: docs/__MACOSX/._729.txt  \n",
            "  inflating: docs/730.txt            \n",
            "  inflating: docs/__MACOSX/._730.txt  \n",
            "  inflating: docs/731.txt            \n",
            "  inflating: docs/__MACOSX/._731.txt  \n",
            "  inflating: docs/732.txt            \n",
            "  inflating: docs/__MACOSX/._732.txt  \n",
            "  inflating: docs/733.txt            \n",
            "  inflating: docs/__MACOSX/._733.txt  \n",
            "  inflating: docs/734.txt            \n",
            "  inflating: docs/__MACOSX/._734.txt  \n",
            "  inflating: docs/735.txt            \n",
            "  inflating: docs/__MACOSX/._735.txt  \n",
            "  inflating: docs/736.txt            \n",
            "  inflating: docs/__MACOSX/._736.txt  \n"
          ]
        }
      ]
    },
    {
      "cell_type": "markdown",
      "source": [
        "## The dataset\n",
        "Before we do anything else, let's have a look at the dataset I will assume you will have downloaded from blackboard the dataset *bbcsport.tar.gz* and unzipped it (`gunzip bbcsport.tar.gz` followed by `tar -xf bbcsport.tar`) in a convenient location. Go into that directory and have a look at some of the files using the `cat` command, i.e."
      ],
      "metadata": {
        "id": "SNU8cnntxTie"
      }
    },
    {
      "cell_type": "code",
      "source": [
        "!cat docs/000.txt"
      ],
      "metadata": {
        "id": "lzD4D5Cg9Adk",
        "colab": {
          "base_uri": "https://localhost:8080/"
        },
        "outputId": "b2931c43-cd99-4f2c-beb8-6419b4ee9e23"
      },
      "execution_count": 3,
      "outputs": [
        {
          "output_type": "stream",
          "name": "stdout",
          "text": [
            "McCall earns Tannadice reprieve\n",
            "\n",
            "Dundee United manager Ian McCall has won a reprieve from the sack, with chairman Eddie Thompson calling for an end to speculation over his future.\n",
            "\n",
            "It is understood that McCall would have been sacked if Sheffield Wednesday manager Paul Sturrock had been willing to return to Tannadice. But Sturrock has distanced himself from the position. \"We're in a difficult situation. We must get out of it through the efforts of current personnel,\" said Thompson. \"Ian McCall and I have had a long and detailed talk about a number of areas including the current league position and the manner of the exit from the League Cup,\" he added. \"However, the continuing speculation is doing no one any good, especially as we have several crucial games coming up. \"The minds of the coaching staff and the players have to be on those games and those games only. \"Our season would of course improve considerably if in the next few weeks we achieved some improved league results and there is also the potential of another cup semi-final, subject to the draw.\n",
            "\n",
            "\"All that matters at the present time - is us all having a total focus on the games ahead and a positive series of results being achieved.\" Dundee United players had expressed their solidarity with McCall after their side's 3-0 Scottish Cup win over Queen of the South. \"We want the boss to stay, we don't want someone else coming in,\" said Jim McIntyre. \"Hopefully now he gets the chance to stay.\" Keeper Tony Bullock echoed McIntyre's sentiments. \"I think all the boys are behind Ian McCall,\" he added. \"At the moment it is all speculation and we have got to rise above all that and do a job on the pitch.\"\n",
            "\n",
            "On Saturday, Sturrock insisted that he had unfinished business with Wednesday, who are fourth in League One. \"I've only been here five months and I don't expect to be leaving very, very soon,\" he said. \"I can appreciate the rumours because I've emphasised my thoughts and ambitions to go back to Dundee United. \"I can assure you the timescale is not the right one. \"It (Dundee United) is my team. I had five years there as a coach, six as a player, two years as a manager - once you've done that kind of thing, it's the result you look for. \"The important thing now is I've come here to do a job and I'm going to try to finish it.\"\n"
          ]
        }
      ]
    },
    {
      "cell_type": "markdown",
      "source": [
        "should produce something similar to\n",
        "\n",
        "    McCall earns Tannadice reprieve\n",
        "\n",
        "    Dundee United manager Ian McCall has won a reprieve from the sack, with chairman Eddie Thompson calling for an end to speculation over his future...etc\n",
        "\n",
        "Now let's try to open and print the file in python. First, you need to import these modules that will be used throughout"
      ],
      "metadata": {
        "id": "VGI6nHcM_pHg"
      }
    },
    {
      "cell_type": "code",
      "source": [
        "import re\n",
        "from glob import glob"
      ],
      "metadata": {
        "id": "mMBr7ouixYbr"
      },
      "execution_count": 4,
      "outputs": []
    },
    {
      "cell_type": "markdown",
      "source": [
        "We can open a file using the built-in `open` command as follows:"
      ],
      "metadata": {
        "id": "oEbfVZE-AHro"
      }
    },
    {
      "cell_type": "code",
      "source": [
        "f = open('docs/000.txt','r', encoding='latin-1')"
      ],
      "metadata": {
        "id": "NFXUK7OnAGPq"
      },
      "execution_count": 5,
      "outputs": []
    },
    {
      "cell_type": "markdown",
      "source": [
        "The method f.read() then reads the file into a string as follows"
      ],
      "metadata": {
        "id": "xc1vEkXWCWsr"
      }
    },
    {
      "cell_type": "code",
      "source": [
        "s = f.read()"
      ],
      "metadata": {
        "id": "ECF-O2O1CUjV"
      },
      "execution_count": 6,
      "outputs": []
    },
    {
      "cell_type": "markdown",
      "source": [
        "Try printing the first 200 characters to see how the output looks. "
      ],
      "metadata": {
        "id": "EoptQ57ICabX"
      }
    },
    {
      "cell_type": "code",
      "source": [
        "print(s[0:199])"
      ],
      "metadata": {
        "id": "oPoqTFmrCYdD",
        "colab": {
          "base_uri": "https://localhost:8080/"
        },
        "outputId": "8e70c7df-e5cb-45ec-bc8b-13f189684229"
      },
      "execution_count": 7,
      "outputs": [
        {
          "output_type": "stream",
          "name": "stdout",
          "text": [
            "McCall earns Tannadice reprieve\n",
            "\n",
            "Dundee United manager Ian McCall has won a reprieve from the sack, with chairman Eddie Thompson calling for an end to speculation over his future.\n",
            "\n",
            "It is understood t\n"
          ]
        }
      ]
    },
    {
      "cell_type": "markdown",
      "source": [
        "Try to open and print some part of another file in the box below"
      ],
      "metadata": {
        "id": "EvxG-tBNJ6aE"
      }
    },
    {
      "cell_type": "code",
      "source": [],
      "metadata": {
        "id": "zOH-SMAkKJ3m"
      },
      "execution_count": 7,
      "outputs": []
    },
    {
      "cell_type": "markdown",
      "source": [
        "We can use the `glob()` command to obtain a list of all the filenames under a directory and then open a specific one using an index into that list. This index will become our document ID that our search engine will use. All that can be neatly placed inside a function for printing files as follows:"
      ],
      "metadata": {
        "id": "Ulj4_d2_CeiM"
      }
    },
    {
      "cell_type": "code",
      "source": [
        "filenames = sorted(glob(\"docs/*.txt\"))\n",
        "\n",
        "def readfile(fname):\n",
        "    f = open(fname, 'r', encoding='latin-1')\n",
        "    s = f.read()\n",
        "    f.close()\n",
        "    return s\n",
        "\n",
        "print(readfile(filenames[0]))"
      ],
      "metadata": {
        "id": "yH8DLPvtCcJI",
        "colab": {
          "base_uri": "https://localhost:8080/"
        },
        "outputId": "ac1d44db-a750-47cb-9f3d-8429c6313879"
      },
      "execution_count": 8,
      "outputs": [
        {
          "output_type": "stream",
          "name": "stdout",
          "text": [
            "McCall earns Tannadice reprieve\n",
            "\n",
            "Dundee United manager Ian McCall has won a reprieve from the sack, with chairman Eddie Thompson calling for an end to speculation over his future.\n",
            "\n",
            "It is understood that McCall would have been sacked if Sheffield Wednesday manager Paul Sturrock had been willing to return to Tannadice. But Sturrock has distanced himself from the position. \"We're in a difficult situation. We must get out of it through the efforts of current personnel,\" said Thompson. \"Ian McCall and I have had a long and detailed talk about a number of areas including the current league position and the manner of the exit from the League Cup,\" he added. \"However, the continuing speculation is doing no one any good, especially as we have several crucial games coming up. \"The minds of the coaching staff and the players have to be on those games and those games only. \"Our season would of course improve considerably if in the next few weeks we achieved some improved league results and there is also the potential of another cup semi-final, subject to the draw.\n",
            "\n",
            "\"All that matters at the present time - is us all having a total focus on the games ahead and a positive series of results being achieved.\" Dundee United players had expressed their solidarity with McCall after their side's 3-0 Scottish Cup win over Queen of the South. \"We want the boss to stay, we don't want someone else coming in,\" said Jim McIntyre. \"Hopefully now he gets the chance to stay.\" Keeper Tony Bullock echoed McIntyre's sentiments. \"I think all the boys are behind Ian McCall,\" he added. \"At the moment it is all speculation and we have got to rise above all that and do a job on the pitch.\"\n",
            "\n",
            "On Saturday, Sturrock insisted that he had unfinished business with Wednesday, who are fourth in League One. \"I've only been here five months and I don't expect to be leaving very, very soon,\" he said. \"I can appreciate the rumours because I've emphasised my thoughts and ambitions to go back to Dundee United. \"I can assure you the timescale is not the right one. \"It (Dundee United) is my team. I had five years there as a coach, six as a player, two years as a manager - once you've done that kind of thing, it's the result you look for. \"The important thing now is I've come here to do a job and I'm going to try to finish it.\"\n",
            "\n"
          ]
        }
      ]
    },
    {
      "cell_type": "markdown",
      "source": [
        "Try using this function on the `docs` path for various files in the box below: "
      ],
      "metadata": {
        "id": "NEgkQ8FcClLk"
      }
    },
    {
      "cell_type": "code",
      "source": [],
      "metadata": {
        "id": "IHPrYkLtKTKB"
      },
      "execution_count": 8,
      "outputs": []
    },
    {
      "cell_type": "markdown",
      "source": [
        "So we now know how to open a file and turn its contents into a string. The next step is chopping that string up in tokens.\n"
      ],
      "metadata": {
        "id": "1TYbOBLGKZrK"
      }
    },
    {
      "cell_type": "markdown",
      "source": [
        "## Tokenisation\n",
        "Fortunately tokenization is a very simple task in Python because we can use the built-in `split` method for strings. Let's try reading a file into a string, split it and then print the first 20 tokens."
      ],
      "metadata": {
        "id": "NGdkmcP-CouU"
      }
    },
    {
      "cell_type": "code",
      "source": [
        "s = readfile(filenames[0])\n",
        "tokens = s.split()\n",
        "print(tokens[0:19])"
      ],
      "metadata": {
        "id": "3TEniYEoCqbM",
        "colab": {
          "base_uri": "https://localhost:8080/"
        },
        "outputId": "aded4f94-0691-49bd-8052-15a95b72938b"
      },
      "execution_count": 9,
      "outputs": [
        {
          "output_type": "stream",
          "name": "stdout",
          "text": [
            "['McCall', 'earns', 'Tannadice', 'reprieve', 'Dundee', 'United', 'manager', 'Ian', 'McCall', 'has', 'won', 'a', 'reprieve', 'from', 'the', 'sack,', 'with', 'chairman', 'Eddie']\n"
          ]
        }
      ]
    },
    {
      "cell_type": "markdown",
      "source": [
        "We see that the simple `split` method in strings only splits on whitespace characters leaving punctuation marks (as well as numbers, hyphens etc) which is why it returned \"`sack,`\" as a token. \n",
        "\n",
        "Let's use an advanced tokeniser to perform tokenisation. We can do this easily with NLTK. NLTK (Natural Language Toolkit) is the go-to API for NLP (Natural Language Processing) with Python. It is a powerful tool to preprocess text data for further analysis for ML (Machine Learning) models. \n",
        "\n",
        "NLTK is already installed is colab environment. Let's check the version."
      ],
      "metadata": {
        "id": "qdkKL8e2C1iF"
      }
    },
    {
      "cell_type": "code",
      "source": [
        "import nltk\n",
        "\n",
        "print('The NLTK version is {}.'.format(nltk.__version__))"
      ],
      "metadata": {
        "colab": {
          "base_uri": "https://localhost:8080/"
        },
        "id": "xE1SdHrJZl3T",
        "outputId": "e33c24d1-0d7e-471d-b09f-a4c681b2c8b4"
      },
      "execution_count": 10,
      "outputs": [
        {
          "output_type": "stream",
          "name": "stdout",
          "text": [
            "The NLTK version is 3.7.\n"
          ]
        }
      ]
    },
    {
      "cell_type": "markdown",
      "source": [
        "For the tokenisation we additionally need the following resource, which is needed to be downloaded through NLTK."
      ],
      "metadata": {
        "id": "vqGeIe7TabG5"
      }
    },
    {
      "cell_type": "code",
      "source": [
        "nltk.download('punkt')"
      ],
      "metadata": {
        "colab": {
          "base_uri": "https://localhost:8080/"
        },
        "id": "-4yuuMDfaxoa",
        "outputId": "c79fe6ee-1c4b-4511-8370-5886bed0df98"
      },
      "execution_count": 11,
      "outputs": [
        {
          "output_type": "stream",
          "name": "stderr",
          "text": [
            "[nltk_data] Downloading package punkt to /root/nltk_data...\n",
            "[nltk_data]   Package punkt is already up-to-date!\n"
          ]
        },
        {
          "output_type": "execute_result",
          "data": {
            "text/plain": [
              "True"
            ]
          },
          "metadata": {},
          "execution_count": 11
        }
      ]
    },
    {
      "cell_type": "markdown",
      "source": [
        "Let's perform tokenisation with NLTK"
      ],
      "metadata": {
        "id": "b1cFcK9Da5Dy"
      }
    },
    {
      "cell_type": "code",
      "source": [
        "from nltk.tokenize import word_tokenize\n",
        "\n",
        "tokens = word_tokenize(s)\n",
        "print(tokens[0:19])\n"
      ],
      "metadata": {
        "colab": {
          "base_uri": "https://localhost:8080/"
        },
        "id": "1oHAvz5aZ-Fa",
        "outputId": "01c8a318-1f4d-465a-8bda-8660ebd618ae"
      },
      "execution_count": 12,
      "outputs": [
        {
          "output_type": "stream",
          "name": "stdout",
          "text": [
            "['McCall', 'earns', 'Tannadice', 'reprieve', 'Dundee', 'United', 'manager', 'Ian', 'McCall', 'has', 'won', 'a', 'reprieve', 'from', 'the', 'sack', ',', 'with', 'chairman']\n"
          ]
        }
      ]
    },
    {
      "cell_type": "markdown",
      "source": [
        "You can see that NLTK is better in tokenisation than the split function as it returned \"sack\" and \",\" as two tokens. "
      ],
      "metadata": {
        "id": "pjNQ-gJ7uDsO"
      }
    },
    {
      "cell_type": "markdown",
      "source": [
        "## Stemming\n",
        "\n",
        "We can use NLTK to perform stemming. We will use the Porter Stemmer that we saw in the lecture."
      ],
      "metadata": {
        "id": "mIO-pmMNxzAN"
      }
    },
    {
      "cell_type": "code",
      "source": [
        "from nltk.stem import PorterStemmer\n",
        "\n",
        "\n",
        "ps = PorterStemmer()\n",
        "\n",
        "stemmed_tokens = []\n",
        "for token in tokens:\n",
        "    rootWord = ps.stem(token)\n",
        "    stemmed_tokens.append(rootWord)\n",
        "\n",
        "print(stemmed_tokens[0:19])"
      ],
      "metadata": {
        "colab": {
          "base_uri": "https://localhost:8080/"
        },
        "id": "8EKLuWP2yH2b",
        "outputId": "c1eac935-2d45-49ec-ebca-f4be7a419f9d"
      },
      "execution_count": 13,
      "outputs": [
        {
          "output_type": "stream",
          "name": "stdout",
          "text": [
            "['mccall', 'earn', 'tannadic', 'repriev', 'dunde', 'unit', 'manag', 'ian', 'mccall', 'ha', 'won', 'a', 'repriev', 'from', 'the', 'sack', ',', 'with', 'chairman']\n"
          ]
        }
      ]
    },
    {
      "cell_type": "markdown",
      "source": [
        "Spot the differences Porter Stemmer made to the tokens. "
      ],
      "metadata": {
        "id": "GLdtdafryp3D"
      }
    },
    {
      "cell_type": "markdown",
      "source": [
        "There is another stemmer in NLTK that is called Snowball Stemmer. Snowball Stemmer is also known as the Porter2 stemming algorithm because it is a better version of the Porter Stemmer. It is more aggressive than Porter Stemmer. "
      ],
      "metadata": {
        "id": "tEGomKkm0d4M"
      }
    },
    {
      "cell_type": "markdown",
      "source": [
        "In the following cell use the documentation here - https://www.nltk.org/api/nltk.stem.snowball.html and stem the same text above using Snowball Stemmer."
      ],
      "metadata": {
        "id": "MjP8Mqf10qPs"
      }
    },
    {
      "cell_type": "code",
      "source": [],
      "metadata": {
        "id": "GvrbXi381Let"
      },
      "execution_count": 13,
      "outputs": []
    },
    {
      "cell_type": "markdown",
      "source": [
        "## Lemmatisation\n",
        "\n",
        "We can use NLTK to perform lemmatisation too. We will use the popular WordNet Lemmatiser. We need to download wordnet and omw through NLTK to do that."
      ],
      "metadata": {
        "id": "wfWkYbxp1Q9N"
      }
    },
    {
      "cell_type": "code",
      "source": [
        "nltk.download('wordnet')\n",
        "nltk.download('omw-1.4')"
      ],
      "metadata": {
        "colab": {
          "base_uri": "https://localhost:8080/"
        },
        "id": "Uy5B1x5s3Owf",
        "outputId": "3b76195b-0c0c-4d3c-b5aa-20c5bdef803c"
      },
      "execution_count": 14,
      "outputs": [
        {
          "output_type": "stream",
          "name": "stderr",
          "text": [
            "[nltk_data] Downloading package wordnet to /root/nltk_data...\n",
            "[nltk_data]   Package wordnet is already up-to-date!\n",
            "[nltk_data] Downloading package omw-1.4 to /root/nltk_data...\n",
            "[nltk_data]   Package omw-1.4 is already up-to-date!\n"
          ]
        },
        {
          "output_type": "execute_result",
          "data": {
            "text/plain": [
              "True"
            ]
          },
          "metadata": {},
          "execution_count": 14
        }
      ]
    },
    {
      "cell_type": "code",
      "source": [
        "import nltk\n",
        "from nltk.stem import WordNetLemmatizer\n",
        "\n",
        "wordnet_lemmatizer = WordNetLemmatizer()\n",
        "\n",
        "lemmatised_tokens = []\n",
        "for token in tokens:\n",
        "  lemmatised_token = wordnet_lemmatizer.lemmatize(token)\n",
        "  lemmatised_tokens.append(lemmatised_token)\n",
        "\n",
        "print(lemmatised_tokens[0:19])\n",
        "\t\t"
      ],
      "metadata": {
        "colab": {
          "base_uri": "https://localhost:8080/"
        },
        "id": "Oj126yFt2iSb",
        "outputId": "fc3d5df2-8c1a-47f9-fdca-16e2c78feb30"
      },
      "execution_count": 15,
      "outputs": [
        {
          "output_type": "stream",
          "name": "stdout",
          "text": [
            "['McCall', 'earns', 'Tannadice', 'reprieve', 'Dundee', 'United', 'manager', 'Ian', 'McCall', 'ha', 'won', 'a', 'reprieve', 'from', 'the', 'sack', ',', 'with', 'chairman']\n"
          ]
        }
      ]
    },
    {
      "cell_type": "markdown",
      "source": [
        "## Boolean retrieval - Indexing\n",
        "In this section we will look at Boolean retrieval, as a warming up excercise before you tackle ranked retrieval on your own! The first step in a boolean search engine is to build the indexer. This piece of code is responsible for reading all the documents and producing the postings lists which, as we saw in the lectures, is an efficient way of storing the term-document incidence matrix.\n",
        "\n",
        "A nice data-structure for storing postings lists is a Python dictionary which as we have seen can be indexed by strings. So we want to produce a dictionary whose keys are words found in the documents and whose values are *sets* of docid's of documents that contain those words. So a postings list such as\n",
        "    \n",
        "    {'cricket': {2, 3, 5, 7}, 'football': {0, 2, 4}, 'rugby': {1, 2, 6}}\n",
        "    \n",
        "would denote that the word *cricket* can be found in documents with id's 2, 3, 5 and 7 etc. So how to construct this postings dictionary? Let us read and tokenize the file with id 0 once again. For the codes below we are only using tokenising. As homework redo the code with lemmatisation and stemming too. "
      ],
      "metadata": {
        "id": "8qaKJkXdDKxK"
      }
    },
    {
      "cell_type": "code",
      "source": [
        "s = readfile(filenames[0])\n",
        "words = word_tokenize(s)"
      ],
      "metadata": {
        "id": "1WIRsCXjDIPk"
      },
      "execution_count": 16,
      "outputs": []
    },
    {
      "cell_type": "markdown",
      "source": [
        "Now starting with an empty dictionary we will add all the words in `words`. If the word is not contained in the dictionary we create a singleton set with the doc-id 0. If the word is already contained in the dictionary we only add 0 to the corresponding set of docid's. This looks as follows: "
      ],
      "metadata": {
        "id": "L19rgx8zDU1o"
      }
    },
    {
      "cell_type": "code",
      "source": [
        "postings = {}\n",
        "for w in words:\n",
        "    postings.setdefault(w, set()).add(0)"
      ],
      "metadata": {
        "id": "VQHJuPuADUYN"
      },
      "execution_count": 17,
      "outputs": []
    },
    {
      "cell_type": "markdown",
      "source": [
        "Print out the `postings` dictionary in the box below to see what it contains. You should get a dictionary with keys equal to all the words contained in our doc and values {0}. \n",
        "\n"
      ],
      "metadata": {
        "id": "_lvUd3LaDcD7"
      }
    },
    {
      "cell_type": "code",
      "source": [],
      "metadata": {
        "id": "2DsePsTPLmWt"
      },
      "execution_count": 17,
      "outputs": []
    },
    {
      "cell_type": "markdown",
      "source": [
        "We can now do this for the whole collection of documents, and encapsulate the whole indexing engine in a function as follows:"
      ],
      "metadata": {
        "id": "q3NvkBEeLli4"
      }
    },
    {
      "cell_type": "code",
      "source": [
        "def indextextfiles_BR(path):\n",
        "    filenames = sorted(glob(path))\n",
        "    postings={}         \n",
        "    for docID,fname in enumerate(filenames):\n",
        "        s = readfile(fname)\n",
        "        words = word_tokenize(s)\n",
        "        for w in words:\n",
        "            if w!='':\n",
        "                postings.setdefault(w, set()).add(docID)\n",
        "    return postings"
      ],
      "metadata": {
        "id": "2gplVnF5DaPW"
      },
      "execution_count": 18,
      "outputs": []
    },
    {
      "cell_type": "markdown",
      "source": [
        "So to process the entire directory and generate the complete postings dictionary we can execute:"
      ],
      "metadata": {
        "id": "gc3DjMf5DhNj"
      }
    },
    {
      "cell_type": "code",
      "source": [
        "postings = indextextfiles_BR('docs/*.txt')"
      ],
      "metadata": {
        "id": "5qk0schcDf79"
      },
      "execution_count": 19,
      "outputs": []
    },
    {
      "cell_type": "markdown",
      "source": [
        "Let's now use this datastructure to find out which documents contain the word '`devastating`'. We just need to execute:"
      ],
      "metadata": {
        "id": "7_1sTaeVEgrb"
      }
    },
    {
      "cell_type": "code",
      "source": [
        "print(postings['devastating'])"
      ],
      "metadata": {
        "id": "FM-Z4mabEW6u",
        "colab": {
          "base_uri": "https://localhost:8080/"
        },
        "outputId": "3e786df6-7162-46cf-8a52-5c64eb1a30a6"
      },
      "execution_count": 20,
      "outputs": [
        {
          "output_type": "stream",
          "name": "stdout",
          "text": [
            "{195, 310, 55}\n"
          ]
        }
      ]
    },
    {
      "cell_type": "markdown",
      "source": [
        "which tells us that the word 'devastating' is contained in docs with id's 195, 310 and 55. Neat! Use the box below to print the postings list of other words. Can you find a word that is contained in only one document?"
      ],
      "metadata": {
        "id": "Zdd7chMqEl3L"
      }
    },
    {
      "cell_type": "code",
      "source": [],
      "metadata": {
        "id": "GLCuSdRPMR_8"
      },
      "execution_count": 20,
      "outputs": []
    },
    {
      "cell_type": "markdown",
      "source": [
        "## Processing boolean queries\n",
        "We are now ready to process a boolean query. We will be assuming that the user gives a string containing all the query terms separated by spaces and they will expect all documents that contain all those query terms. Let's begin by assuming the query text '`england football defeat`'"
      ],
      "metadata": {
        "id": "8gvTG1y9Epjx"
      }
    },
    {
      "cell_type": "code",
      "source": [
        "qtext = 'England football defeat'"
      ],
      "metadata": {
        "id": "pwRX78B1EiWi"
      },
      "execution_count": 21,
      "outputs": []
    },
    {
      "cell_type": "markdown",
      "source": [
        "Let's begin by tokenizing it"
      ],
      "metadata": {
        "id": "8j-8OuA9E9GZ"
      }
    },
    {
      "cell_type": "code",
      "source": [
        "words = word_tokenize(qtext)\n",
        "print(words)"
      ],
      "metadata": {
        "id": "qid-ABRbExBB",
        "colab": {
          "base_uri": "https://localhost:8080/"
        },
        "outputId": "418bb252-e909-40ba-d9cf-0aeaa35ee473"
      },
      "execution_count": 22,
      "outputs": [
        {
          "output_type": "stream",
          "name": "stdout",
          "text": [
            "['England', 'football', 'defeat']\n"
          ]
        }
      ]
    },
    {
      "cell_type": "markdown",
      "source": [
        "To perform boolean retrieval we need to get the postings of each of the three terms and then take their intersection (`&` operator in Python) as follows:"
      ],
      "metadata": {
        "id": "y_8nKVxdE_eF"
      }
    },
    {
      "cell_type": "code",
      "source": [
        "p1 = postings['England']\n",
        "p2 = postings['football']\n",
        "p3 = postings['defeat']\n",
        "print(p1&p2&p3)"
      ],
      "metadata": {
        "id": "2QATSQo5E_sB",
        "colab": {
          "base_uri": "https://localhost:8080/"
        },
        "outputId": "bbb1d68b-856e-4ed5-c1db-d37d14f6117c"
      },
      "execution_count": 23,
      "outputs": [
        {
          "output_type": "stream",
          "name": "stdout",
          "text": [
            "{682, 602, 597, 610}\n"
          ]
        }
      ]
    },
    {
      "cell_type": "markdown",
      "source": [
        "More generally, we can iterate through the list of terms in the query, grab the postings sets for each of them and take their intersection. This can be done inside a function as follows. "
      ],
      "metadata": {
        "id": "9dg6SL1JFDWo"
      }
    },
    {
      "cell_type": "code",
      "source": [
        "def query_BR(postings, qtext):\n",
        "    words = word_tokenize(qtext)\n",
        "    res = None\n",
        "    for w in words:\n",
        "        if res == None:\n",
        "            res = postings[w]\n",
        "        else:    \n",
        "            res = res & postings[w]\n",
        "    return res"
      ],
      "metadata": {
        "id": "XfuxgooGFBGx"
      },
      "execution_count": 24,
      "outputs": []
    },
    {
      "cell_type": "markdown",
      "source": [
        "Notice the check inside the for-loop for the very first time through the loop where `res` has not been set yet. If you want, you can try a more elegant (or Pythonic as people call it) way of doing the same thing  using `set.intersection` and the `*` operator that turns a list into arguments for a function. "
      ],
      "metadata": {
        "id": "qfzyIH-OFIzg"
      }
    },
    {
      "cell_type": "code",
      "source": [
        "def query_BR(postings, qtext):\n",
        "    words = word_tokenize(qtext)\n",
        "    allpostings = [postings[w] for w in words]\n",
        "    res = set.intersection(*allpostings)\n",
        "    return res"
      ],
      "metadata": {
        "id": "xuBdRk5zFFYc"
      },
      "execution_count": 25,
      "outputs": []
    },
    {
      "cell_type": "markdown",
      "source": [
        "Let's see if we get the same results"
      ],
      "metadata": {
        "id": "evhjGjf9FMOo"
      }
    },
    {
      "cell_type": "code",
      "source": [
        "query_BR(postings,'England football defeat')"
      ],
      "metadata": {
        "id": "7oL7R7QxFKeo",
        "colab": {
          "base_uri": "https://localhost:8080/"
        },
        "outputId": "5e6111fb-21f7-4c86-c7f9-b89ce02b1328"
      },
      "execution_count": 26,
      "outputs": [
        {
          "output_type": "execute_result",
          "data": {
            "text/plain": [
              "{597, 602, 610, 682}"
            ]
          },
          "metadata": {},
          "execution_count": 26
        }
      ]
    },
    {
      "cell_type": "markdown",
      "source": [
        "Nice!"
      ],
      "metadata": {
        "id": "8pxWLdB-MbyI"
      }
    },
    {
      "cell_type": "markdown",
      "source": [
        "In the box below, run a different query and then verify that the results are correct by printing out the text and checking if the terms are contained in all documents."
      ],
      "metadata": {
        "id": "FZPgzAYcNQ7Y"
      }
    },
    {
      "cell_type": "code",
      "source": [],
      "metadata": {
        "id": "zdyStFYzSYN_"
      },
      "execution_count": 26,
      "outputs": []
    },
    {
      "cell_type": "markdown",
      "source": [
        "Please save this as pdf by going to File->Print and select destination as \"Save to pdf\". You can then upload the file to blackboard using the submission link found next to the lab spec."
      ],
      "metadata": {
        "id": "oE3ETRAYSeyD"
      }
    }
  ]
}